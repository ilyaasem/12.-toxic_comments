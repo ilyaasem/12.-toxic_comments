{
 "cells": [
  {
   "cell_type": "markdown",
   "id": "9f229daa",
   "metadata": {
    "id": "9f229daa"
   },
   "source": [
    "<h1>Содержание<span class=\"tocSkip\"></span></h1>\n",
    "<div class=\"toc\"><ul class=\"toc-item\"><li><span><a href=\"#Подготовка\" data-toc-modified-id=\"Подготовка-1\"><span class=\"toc-item-num\">1&nbsp;&nbsp;</span>Подготовка</a></span></li><li><span><a href=\"#Обучение\" data-toc-modified-id=\"Обучение-2\"><span class=\"toc-item-num\">2&nbsp;&nbsp;</span>Обучение</a></span></li><li><span><a href=\"#Выводы\" data-toc-modified-id=\"Выводы-3\"><span class=\"toc-item-num\">3&nbsp;&nbsp;</span>Выводы</a></span></li><li><span><a href=\"#Чек-лист-проверки\" data-toc-modified-id=\"Чек-лист-проверки-4\"><span class=\"toc-item-num\">4&nbsp;&nbsp;</span>Чек-лист проверки</a></span></li></ul></div>"
   ]
  },
  {
   "cell_type": "markdown",
   "id": "57ec0e4f",
   "metadata": {
    "id": "57ec0e4f"
   },
   "source": [
    "# Проект для «Викишоп»"
   ]
  },
  {
   "cell_type": "markdown",
   "id": "b53de07f",
   "metadata": {
    "id": "b53de07f"
   },
   "source": [
    "Интернет-магазин «Викишоп» запускает новый сервис. Теперь пользователи могут редактировать и дополнять описания товаров, как в вики-сообществах. То есть клиенты предлагают свои правки и комментируют изменения других. Магазину нужен инструмент, который будет искать токсичные комментарии и отправлять их на модерацию. \n",
    "\n",
    "Обучите модель классифицировать комментарии на позитивные и негативные. В вашем распоряжении набор данных с разметкой о токсичности правок.\n",
    "\n",
    "Постройте модель со значением метрики качества *F1* не меньше 0.75. \n",
    "\n",
    "**Инструкция по выполнению проекта**\n",
    "\n",
    "1. Загрузите и подготовьте данные.\n",
    "2. Обучите разные модели. \n",
    "3. Сделайте выводы.\n",
    "\n",
    "Для выполнения проекта применять *BERT* необязательно, но вы можете попробовать.\n",
    "\n",
    "**Описание данных**\n",
    "\n",
    "Данные находятся в файле `toxic_comments.csv`. Столбец *text* в нём содержит текст комментария, а *toxic* — целевой признак."
   ]
  },
  {
   "cell_type": "code",
   "execution_count": 1,
   "id": "bb5ee877",
   "metadata": {
    "colab": {
     "base_uri": "https://localhost:8080/"
    },
    "id": "bb5ee877",
    "outputId": "621a764c-c6e8-4cf1-e749-64afe41bc04d"
   },
   "outputs": [
    {
     "name": "stdout",
     "output_type": "stream",
     "text": [
      "\u001b[K     |████████████████████████████████| 5.3 MB 6.9 MB/s \n",
      "\u001b[K     |████████████████████████████████| 7.6 MB 34.7 MB/s \n",
      "\u001b[K     |████████████████████████████████| 163 kB 75.0 MB/s \n",
      "\u001b[?25h"
     ]
    }
   ],
   "source": [
    "#установка библиотек в тихом (quiet) режиме, когда логи не выводятся\n",
    "!pip install -q transformers"
   ]
  },
  {
   "cell_type": "code",
   "execution_count": 2,
   "id": "aefac7a1",
   "metadata": {
    "id": "aefac7a1",
    "scrolled": true
   },
   "outputs": [],
   "source": [
    "!pip install -q torch"
   ]
  },
  {
   "cell_type": "code",
   "execution_count": 3,
   "id": "8b6df7e3",
   "metadata": {
    "id": "8b6df7e3"
   },
   "outputs": [],
   "source": [
    "! pip install -q wordcloud\n",
    "from wordcloud import WordCloud, STOPWORDS"
   ]
  },
  {
   "cell_type": "markdown",
   "id": "e514296e",
   "metadata": {
    "id": "e514296e"
   },
   "source": [
    "## Подготовка"
   ]
  },
  {
   "cell_type": "code",
   "execution_count": 4,
   "id": "0fa11236",
   "metadata": {
    "id": "0fa11236"
   },
   "outputs": [],
   "source": [
    "import numpy as np\n",
    "import pandas as pd\n",
    "import torch\n",
    "import re\n",
    "import transformers\n",
    "\n",
    "import nltk\n",
    "import lightgbm as lgb\n",
    "#загрузим список стоп-слов\n",
    "from nltk.corpus import stopwords as nltk_stopwords\n",
    "from nltk.tokenize import word_tokenize\n",
    "from nltk.stem import WordNetLemmatizer\n",
    "\n",
    "from tqdm import notebook\n",
    "from sklearn.model_selection import GridSearchCV\n",
    "from sklearn.model_selection import train_test_split\n",
    "\n",
    "from sklearn.linear_model import LogisticRegression\n",
    "from sklearn.ensemble import RandomForestClassifier\n",
    "from sklearn.svm import SVC\n",
    "from sklearn.dummy import DummyClassifier\n",
    "from sklearn.metrics import f1_score\n",
    "#from sklearn.model_selection import cross_val_score\n",
    "from sklearn.feature_extraction.text import TfidfVectorizer\n",
    "#from sklearn.feature_extraction.text import CountVectorizer\n",
    "import warnings\n",
    "warnings.filterwarnings('ignore')"
   ]
  },
  {
   "cell_type": "code",
   "execution_count": 5,
   "id": "3247c881",
   "metadata": {
    "colab": {
     "base_uri": "https://localhost:8080/"
    },
    "id": "3247c881",
    "outputId": "c2d23de5-7ab6-48b4-93ee-b6209a50c7bb"
   },
   "outputs": [
    {
     "name": "stdout",
     "output_type": "stream",
     "text": [
      "<class 'pandas.core.frame.DataFrame'>\n",
      "RangeIndex: 159292 entries, 0 to 159291\n",
      "Data columns (total 3 columns):\n",
      " #   Column      Non-Null Count   Dtype \n",
      "---  ------      --------------   ----- \n",
      " 0   Unnamed: 0  159292 non-null  int64 \n",
      " 1   text        159292 non-null  object\n",
      " 2   toxic       159292 non-null  int64 \n",
      "dtypes: int64(2), object(1)\n",
      "memory usage: 3.6+ MB\n"
     ]
    }
   ],
   "source": [
    "# читаем данные из .csv файла с помощью метода read_csv()\n",
    "try:\n",
    "    df = pd.read_csv('D:\\\\python\\\\project_13\\\\toxic_comments.csv')\n",
    "except:\n",
    "    df = pd.read_csv('https://code.s3.yandex.net/datasets/toxic_comments.csv')\n",
    "\n",
    "# с помощью метода info() изучим структуру таблицы: типы данных, количество строк, столбцов, пропущенных данных.\n",
    "df.info()"
   ]
  },
  {
   "cell_type": "code",
   "execution_count": 6,
   "id": "742bb186",
   "metadata": {
    "colab": {
     "base_uri": "https://localhost:8080/"
    },
    "id": "742bb186",
    "outputId": "2aee77f4-7dfe-4066-d3a3-9ed623092986"
   },
   "outputs": [
    {
     "data": {
      "text/plain": [
       "Index(['Unnamed: 0', 'text', 'toxic'], dtype='object')"
      ]
     },
     "execution_count": 6,
     "metadata": {},
     "output_type": "execute_result"
    }
   ],
   "source": [
    "df.columns"
   ]
  },
  {
   "cell_type": "code",
   "execution_count": 7,
   "id": "07a0b27c",
   "metadata": {
    "colab": {
     "base_uri": "https://localhost:8080/",
     "height": 363
    },
    "id": "07a0b27c",
    "outputId": "6ac826b5-b0c7-4969-f69b-a8975aaef9c0"
   },
   "outputs": [
    {
     "data": {
      "text/html": [
       "\n",
       "  <div id=\"df-8ee0620e-9e57-46f2-afd4-b2cc29d4cd71\">\n",
       "    <div class=\"colab-df-container\">\n",
       "      <div>\n",
       "<style scoped>\n",
       "    .dataframe tbody tr th:only-of-type {\n",
       "        vertical-align: middle;\n",
       "    }\n",
       "\n",
       "    .dataframe tbody tr th {\n",
       "        vertical-align: top;\n",
       "    }\n",
       "\n",
       "    .dataframe thead th {\n",
       "        text-align: right;\n",
       "    }\n",
       "</style>\n",
       "<table border=\"1\" class=\"dataframe\">\n",
       "  <thead>\n",
       "    <tr style=\"text-align: right;\">\n",
       "      <th></th>\n",
       "      <th>Unnamed: 0</th>\n",
       "      <th>text</th>\n",
       "      <th>toxic</th>\n",
       "    </tr>\n",
       "  </thead>\n",
       "  <tbody>\n",
       "    <tr>\n",
       "      <th>0</th>\n",
       "      <td>0</td>\n",
       "      <td>Explanation\\nWhy the edits made under my usern...</td>\n",
       "      <td>0</td>\n",
       "    </tr>\n",
       "    <tr>\n",
       "      <th>1</th>\n",
       "      <td>1</td>\n",
       "      <td>D'aww! He matches this background colour I'm s...</td>\n",
       "      <td>0</td>\n",
       "    </tr>\n",
       "    <tr>\n",
       "      <th>2</th>\n",
       "      <td>2</td>\n",
       "      <td>Hey man, I'm really not trying to edit war. It...</td>\n",
       "      <td>0</td>\n",
       "    </tr>\n",
       "    <tr>\n",
       "      <th>3</th>\n",
       "      <td>3</td>\n",
       "      <td>\"\\nMore\\nI can't make any real suggestions on ...</td>\n",
       "      <td>0</td>\n",
       "    </tr>\n",
       "    <tr>\n",
       "      <th>4</th>\n",
       "      <td>4</td>\n",
       "      <td>You, sir, are my hero. Any chance you remember...</td>\n",
       "      <td>0</td>\n",
       "    </tr>\n",
       "    <tr>\n",
       "      <th>5</th>\n",
       "      <td>5</td>\n",
       "      <td>\"\\n\\nCongratulations from me as well, use the ...</td>\n",
       "      <td>0</td>\n",
       "    </tr>\n",
       "    <tr>\n",
       "      <th>6</th>\n",
       "      <td>6</td>\n",
       "      <td>COCKSUCKER BEFORE YOU PISS AROUND ON MY WORK</td>\n",
       "      <td>1</td>\n",
       "    </tr>\n",
       "    <tr>\n",
       "      <th>7</th>\n",
       "      <td>7</td>\n",
       "      <td>Your vandalism to the Matt Shirvington article...</td>\n",
       "      <td>0</td>\n",
       "    </tr>\n",
       "    <tr>\n",
       "      <th>8</th>\n",
       "      <td>8</td>\n",
       "      <td>Sorry if the word 'nonsense' was offensive to ...</td>\n",
       "      <td>0</td>\n",
       "    </tr>\n",
       "    <tr>\n",
       "      <th>9</th>\n",
       "      <td>9</td>\n",
       "      <td>alignment on this subject and which are contra...</td>\n",
       "      <td>0</td>\n",
       "    </tr>\n",
       "  </tbody>\n",
       "</table>\n",
       "</div>\n",
       "      <button class=\"colab-df-convert\" onclick=\"convertToInteractive('df-8ee0620e-9e57-46f2-afd4-b2cc29d4cd71')\"\n",
       "              title=\"Convert this dataframe to an interactive table.\"\n",
       "              style=\"display:none;\">\n",
       "        \n",
       "  <svg xmlns=\"http://www.w3.org/2000/svg\" height=\"24px\"viewBox=\"0 0 24 24\"\n",
       "       width=\"24px\">\n",
       "    <path d=\"M0 0h24v24H0V0z\" fill=\"none\"/>\n",
       "    <path d=\"M18.56 5.44l.94 2.06.94-2.06 2.06-.94-2.06-.94-.94-2.06-.94 2.06-2.06.94zm-11 1L8.5 8.5l.94-2.06 2.06-.94-2.06-.94L8.5 2.5l-.94 2.06-2.06.94zm10 10l.94 2.06.94-2.06 2.06-.94-2.06-.94-.94-2.06-.94 2.06-2.06.94z\"/><path d=\"M17.41 7.96l-1.37-1.37c-.4-.4-.92-.59-1.43-.59-.52 0-1.04.2-1.43.59L10.3 9.45l-7.72 7.72c-.78.78-.78 2.05 0 2.83L4 21.41c.39.39.9.59 1.41.59.51 0 1.02-.2 1.41-.59l7.78-7.78 2.81-2.81c.8-.78.8-2.07 0-2.86zM5.41 20L4 18.59l7.72-7.72 1.47 1.35L5.41 20z\"/>\n",
       "  </svg>\n",
       "      </button>\n",
       "      \n",
       "  <style>\n",
       "    .colab-df-container {\n",
       "      display:flex;\n",
       "      flex-wrap:wrap;\n",
       "      gap: 12px;\n",
       "    }\n",
       "\n",
       "    .colab-df-convert {\n",
       "      background-color: #E8F0FE;\n",
       "      border: none;\n",
       "      border-radius: 50%;\n",
       "      cursor: pointer;\n",
       "      display: none;\n",
       "      fill: #1967D2;\n",
       "      height: 32px;\n",
       "      padding: 0 0 0 0;\n",
       "      width: 32px;\n",
       "    }\n",
       "\n",
       "    .colab-df-convert:hover {\n",
       "      background-color: #E2EBFA;\n",
       "      box-shadow: 0px 1px 2px rgba(60, 64, 67, 0.3), 0px 1px 3px 1px rgba(60, 64, 67, 0.15);\n",
       "      fill: #174EA6;\n",
       "    }\n",
       "\n",
       "    [theme=dark] .colab-df-convert {\n",
       "      background-color: #3B4455;\n",
       "      fill: #D2E3FC;\n",
       "    }\n",
       "\n",
       "    [theme=dark] .colab-df-convert:hover {\n",
       "      background-color: #434B5C;\n",
       "      box-shadow: 0px 1px 3px 1px rgba(0, 0, 0, 0.15);\n",
       "      filter: drop-shadow(0px 1px 2px rgba(0, 0, 0, 0.3));\n",
       "      fill: #FFFFFF;\n",
       "    }\n",
       "  </style>\n",
       "\n",
       "      <script>\n",
       "        const buttonEl =\n",
       "          document.querySelector('#df-8ee0620e-9e57-46f2-afd4-b2cc29d4cd71 button.colab-df-convert');\n",
       "        buttonEl.style.display =\n",
       "          google.colab.kernel.accessAllowed ? 'block' : 'none';\n",
       "\n",
       "        async function convertToInteractive(key) {\n",
       "          const element = document.querySelector('#df-8ee0620e-9e57-46f2-afd4-b2cc29d4cd71');\n",
       "          const dataTable =\n",
       "            await google.colab.kernel.invokeFunction('convertToInteractive',\n",
       "                                                     [key], {});\n",
       "          if (!dataTable) return;\n",
       "\n",
       "          const docLinkHtml = 'Like what you see? Visit the ' +\n",
       "            '<a target=\"_blank\" href=https://colab.research.google.com/notebooks/data_table.ipynb>data table notebook</a>'\n",
       "            + ' to learn more about interactive tables.';\n",
       "          element.innerHTML = '';\n",
       "          dataTable['output_type'] = 'display_data';\n",
       "          await google.colab.output.renderOutput(dataTable, element);\n",
       "          const docLink = document.createElement('div');\n",
       "          docLink.innerHTML = docLinkHtml;\n",
       "          element.appendChild(docLink);\n",
       "        }\n",
       "      </script>\n",
       "    </div>\n",
       "  </div>\n",
       "  "
      ],
      "text/plain": [
       "   Unnamed: 0                                               text  toxic\n",
       "0           0  Explanation\\nWhy the edits made under my usern...      0\n",
       "1           1  D'aww! He matches this background colour I'm s...      0\n",
       "2           2  Hey man, I'm really not trying to edit war. It...      0\n",
       "3           3  \"\\nMore\\nI can't make any real suggestions on ...      0\n",
       "4           4  You, sir, are my hero. Any chance you remember...      0\n",
       "5           5  \"\\n\\nCongratulations from me as well, use the ...      0\n",
       "6           6       COCKSUCKER BEFORE YOU PISS AROUND ON MY WORK      1\n",
       "7           7  Your vandalism to the Matt Shirvington article...      0\n",
       "8           8  Sorry if the word 'nonsense' was offensive to ...      0\n",
       "9           9  alignment on this subject and which are contra...      0"
      ]
     },
     "execution_count": 7,
     "metadata": {},
     "output_type": "execute_result"
    }
   ],
   "source": [
    "df.head(10)"
   ]
  },
  {
   "cell_type": "markdown",
   "id": "743d5a0f",
   "metadata": {
    "id": "743d5a0f"
   },
   "source": [
    "- В таблице 159292 столбцов.\n",
    "- Пропуски не обнаружены.\n",
    "- Имеются три столбца, основная информация хранится в столбце text\n",
    "- Целевой признак хранится в столбце toxic, который содержит в себе булево выражение, отвечая на вопрос, токсичный ли комментарий или нет.\n",
    "- Столбец Unnamed: 0 по всей видимости является дублирующим индексы таблицы. Посчитаем, что далее он нам не понадобится.\n",
    "- Понадобится предобработка данных в столбце text, а именно:\n",
    "        - токенизация, разбиение на отдельные фразы, например знаки пунктуации будут лишними при обучении моделей\n",
    "        - лемматизация (для лучшего обучения моделей необходимо далее привести выражения к леммам, то есть к изначальным формам слов)\n",
    "        - также необходимо избавиться от слов, которые не несут в себе смысловой нагрузки\n"
   ]
  },
  {
   "cell_type": "markdown",
   "id": "d5414fb0",
   "metadata": {
    "id": "d5414fb0"
   },
   "source": [
    "- посчитаем соотношение токсичных комментариев к остальным."
   ]
  },
  {
   "cell_type": "code",
   "execution_count": 8,
   "id": "f3d69149",
   "metadata": {
    "colab": {
     "base_uri": "https://localhost:8080/"
    },
    "id": "f3d69149",
    "outputId": "240f6ee7-925b-4041-d0f4-57691d1b884c"
   },
   "outputs": [
    {
     "data": {
      "text/plain": [
       "0    143106\n",
       "1     16186\n",
       "Name: toxic, dtype: int64"
      ]
     },
     "execution_count": 8,
     "metadata": {},
     "output_type": "execute_result"
    }
   ],
   "source": [
    "df['toxic'].value_counts()"
   ]
  },
  {
   "cell_type": "code",
   "execution_count": 9,
   "id": "2429f026",
   "metadata": {
    "colab": {
     "base_uri": "https://localhost:8080/"
    },
    "id": "2429f026",
    "outputId": "0a591bff-df5e-42a1-fb8c-7452c69aa486"
   },
   "outputs": [
    {
     "data": {
      "text/plain": [
       "0    0.898388\n",
       "1    0.101612\n",
       "Name: toxic, dtype: float64"
      ]
     },
     "execution_count": 9,
     "metadata": {},
     "output_type": "execute_result"
    }
   ],
   "source": [
    "df['toxic'].value_counts(normalize=True)"
   ]
  },
  {
   "cell_type": "markdown",
   "id": "b326bb71",
   "metadata": {
    "id": "b326bb71"
   },
   "source": [
    "10,16 %  от общего количества данных токсичны, если рассматривать грубо, то каждый десятый комментарий."
   ]
  },
  {
   "cell_type": "code",
   "execution_count": 10,
   "id": "e69a54e4",
   "metadata": {
    "colab": {
     "base_uri": "https://localhost:8080/"
    },
    "id": "e69a54e4",
    "outputId": "0d2c65e3-1593-489a-d395-b06fa2a748a9"
   },
   "outputs": [
    {
     "data": {
      "text/plain": [
       "0"
      ]
     },
     "execution_count": 10,
     "metadata": {},
     "output_type": "execute_result"
    }
   ],
   "source": [
    "df.duplicated().sum()"
   ]
  },
  {
   "cell_type": "markdown",
   "id": "269f6394",
   "metadata": {
    "id": "269f6394"
   },
   "source": [
    "Произведена проверка на дубликаты. Последние не обнаружены."
   ]
  },
  {
   "cell_type": "code",
   "execution_count": 11,
   "id": "ee9dcb63",
   "metadata": {
    "colab": {
     "base_uri": "https://localhost:8080/",
     "height": 156
    },
    "id": "ee9dcb63",
    "outputId": "18c3ae27-9205-4f4b-cce6-c84509e767a7",
    "scrolled": true
   },
   "outputs": [
    {
     "data": {
      "text/html": [
       "\n",
       "  <div id=\"df-78adb749-581b-4ef1-928d-64937cb26569\">\n",
       "    <div class=\"colab-df-container\">\n",
       "      <div>\n",
       "<style scoped>\n",
       "    .dataframe tbody tr th:only-of-type {\n",
       "        vertical-align: middle;\n",
       "    }\n",
       "\n",
       "    .dataframe tbody tr th {\n",
       "        vertical-align: top;\n",
       "    }\n",
       "\n",
       "    .dataframe thead th {\n",
       "        text-align: right;\n",
       "    }\n",
       "</style>\n",
       "<table border=\"1\" class=\"dataframe\">\n",
       "  <thead>\n",
       "    <tr style=\"text-align: right;\">\n",
       "      <th></th>\n",
       "      <th>count</th>\n",
       "      <th>mean</th>\n",
       "      <th>std</th>\n",
       "      <th>min</th>\n",
       "      <th>25%</th>\n",
       "      <th>50%</th>\n",
       "      <th>75%</th>\n",
       "      <th>max</th>\n",
       "    </tr>\n",
       "  </thead>\n",
       "  <tbody>\n",
       "    <tr>\n",
       "      <th>Unnamed: 0</th>\n",
       "      <td>159292.0</td>\n",
       "      <td>79725.697242</td>\n",
       "      <td>46028.837471</td>\n",
       "      <td>0.0</td>\n",
       "      <td>39872.75</td>\n",
       "      <td>79721.5</td>\n",
       "      <td>119573.25</td>\n",
       "      <td>159450.0</td>\n",
       "    </tr>\n",
       "    <tr>\n",
       "      <th>toxic</th>\n",
       "      <td>159292.0</td>\n",
       "      <td>0.101612</td>\n",
       "      <td>0.302139</td>\n",
       "      <td>0.0</td>\n",
       "      <td>0.00</td>\n",
       "      <td>0.0</td>\n",
       "      <td>0.00</td>\n",
       "      <td>1.0</td>\n",
       "    </tr>\n",
       "  </tbody>\n",
       "</table>\n",
       "</div>\n",
       "      <button class=\"colab-df-convert\" onclick=\"convertToInteractive('df-78adb749-581b-4ef1-928d-64937cb26569')\"\n",
       "              title=\"Convert this dataframe to an interactive table.\"\n",
       "              style=\"display:none;\">\n",
       "        \n",
       "  <svg xmlns=\"http://www.w3.org/2000/svg\" height=\"24px\"viewBox=\"0 0 24 24\"\n",
       "       width=\"24px\">\n",
       "    <path d=\"M0 0h24v24H0V0z\" fill=\"none\"/>\n",
       "    <path d=\"M18.56 5.44l.94 2.06.94-2.06 2.06-.94-2.06-.94-.94-2.06-.94 2.06-2.06.94zm-11 1L8.5 8.5l.94-2.06 2.06-.94-2.06-.94L8.5 2.5l-.94 2.06-2.06.94zm10 10l.94 2.06.94-2.06 2.06-.94-2.06-.94-.94-2.06-.94 2.06-2.06.94z\"/><path d=\"M17.41 7.96l-1.37-1.37c-.4-.4-.92-.59-1.43-.59-.52 0-1.04.2-1.43.59L10.3 9.45l-7.72 7.72c-.78.78-.78 2.05 0 2.83L4 21.41c.39.39.9.59 1.41.59.51 0 1.02-.2 1.41-.59l7.78-7.78 2.81-2.81c.8-.78.8-2.07 0-2.86zM5.41 20L4 18.59l7.72-7.72 1.47 1.35L5.41 20z\"/>\n",
       "  </svg>\n",
       "      </button>\n",
       "      \n",
       "  <style>\n",
       "    .colab-df-container {\n",
       "      display:flex;\n",
       "      flex-wrap:wrap;\n",
       "      gap: 12px;\n",
       "    }\n",
       "\n",
       "    .colab-df-convert {\n",
       "      background-color: #E8F0FE;\n",
       "      border: none;\n",
       "      border-radius: 50%;\n",
       "      cursor: pointer;\n",
       "      display: none;\n",
       "      fill: #1967D2;\n",
       "      height: 32px;\n",
       "      padding: 0 0 0 0;\n",
       "      width: 32px;\n",
       "    }\n",
       "\n",
       "    .colab-df-convert:hover {\n",
       "      background-color: #E2EBFA;\n",
       "      box-shadow: 0px 1px 2px rgba(60, 64, 67, 0.3), 0px 1px 3px 1px rgba(60, 64, 67, 0.15);\n",
       "      fill: #174EA6;\n",
       "    }\n",
       "\n",
       "    [theme=dark] .colab-df-convert {\n",
       "      background-color: #3B4455;\n",
       "      fill: #D2E3FC;\n",
       "    }\n",
       "\n",
       "    [theme=dark] .colab-df-convert:hover {\n",
       "      background-color: #434B5C;\n",
       "      box-shadow: 0px 1px 3px 1px rgba(0, 0, 0, 0.15);\n",
       "      filter: drop-shadow(0px 1px 2px rgba(0, 0, 0, 0.3));\n",
       "      fill: #FFFFFF;\n",
       "    }\n",
       "  </style>\n",
       "\n",
       "      <script>\n",
       "        const buttonEl =\n",
       "          document.querySelector('#df-78adb749-581b-4ef1-928d-64937cb26569 button.colab-df-convert');\n",
       "        buttonEl.style.display =\n",
       "          google.colab.kernel.accessAllowed ? 'block' : 'none';\n",
       "\n",
       "        async function convertToInteractive(key) {\n",
       "          const element = document.querySelector('#df-78adb749-581b-4ef1-928d-64937cb26569');\n",
       "          const dataTable =\n",
       "            await google.colab.kernel.invokeFunction('convertToInteractive',\n",
       "                                                     [key], {});\n",
       "          if (!dataTable) return;\n",
       "\n",
       "          const docLinkHtml = 'Like what you see? Visit the ' +\n",
       "            '<a target=\"_blank\" href=https://colab.research.google.com/notebooks/data_table.ipynb>data table notebook</a>'\n",
       "            + ' to learn more about interactive tables.';\n",
       "          element.innerHTML = '';\n",
       "          dataTable['output_type'] = 'display_data';\n",
       "          await google.colab.output.renderOutput(dataTable, element);\n",
       "          const docLink = document.createElement('div');\n",
       "          docLink.innerHTML = docLinkHtml;\n",
       "          element.appendChild(docLink);\n",
       "        }\n",
       "      </script>\n",
       "    </div>\n",
       "  </div>\n",
       "  "
      ],
      "text/plain": [
       "               count          mean           std  min       25%      50%  \\\n",
       "Unnamed: 0  159292.0  79725.697242  46028.837471  0.0  39872.75  79721.5   \n",
       "toxic       159292.0      0.101612      0.302139  0.0      0.00      0.0   \n",
       "\n",
       "                  75%       max  \n",
       "Unnamed: 0  119573.25  159450.0  \n",
       "toxic            0.00       1.0  "
      ]
     },
     "execution_count": 11,
     "metadata": {},
     "output_type": "execute_result"
    }
   ],
   "source": [
    "df.describe().T"
   ]
  },
  {
   "cell_type": "markdown",
   "id": "7e31df91",
   "metadata": {
    "id": "7e31df91"
   },
   "source": [
    "Удалим лишний столбец."
   ]
  },
  {
   "cell_type": "code",
   "execution_count": 12,
   "id": "149fa3d1",
   "metadata": {
    "id": "149fa3d1"
   },
   "outputs": [],
   "source": [
    "df = df.drop('Unnamed: 0', axis=1)"
   ]
  },
  {
   "cell_type": "code",
   "execution_count": 13,
   "id": "bf197db1",
   "metadata": {
    "colab": {
     "base_uri": "https://localhost:8080/"
    },
    "id": "bf197db1",
    "outputId": "114679a0-90c2-4b62-ec59-69c50a5fc0fe"
   },
   "outputs": [
    {
     "name": "stdout",
     "output_type": "stream",
     "text": [
      "<class 'pandas.core.frame.DataFrame'>\n",
      "RangeIndex: 159292 entries, 0 to 159291\n",
      "Data columns (total 2 columns):\n",
      " #   Column  Non-Null Count   Dtype \n",
      "---  ------  --------------   ----- \n",
      " 0   text    159292 non-null  object\n",
      " 1   toxic   159292 non-null  int64 \n",
      "dtypes: int64(1), object(1)\n",
      "memory usage: 2.4+ MB\n"
     ]
    }
   ],
   "source": [
    "df.info()"
   ]
  },
  {
   "cell_type": "markdown",
   "id": "ea283ca8",
   "metadata": {
    "id": "ea283ca8"
   },
   "source": [
    "Сделаем выборку df_sample для обучения модели DistilBert."
   ]
  },
  {
   "cell_type": "code",
   "execution_count": 14,
   "id": "5746710e",
   "metadata": {
    "colab": {
     "base_uri": "https://localhost:8080/"
    },
    "id": "5746710e",
    "outputId": "f75c8a68-cdcb-4416-cdef-180ec69d25a7"
   },
   "outputs": [
    {
     "data": {
      "text/plain": [
       "0    9011\n",
       "1     989\n",
       "Name: toxic, dtype: int64"
      ]
     },
     "execution_count": 14,
     "metadata": {},
     "output_type": "execute_result"
    }
   ],
   "source": [
    "df_sample = df.sample((10000), random_state=123).reset_index(drop=True) \n",
    "df_sample['toxic'].value_counts()"
   ]
  },
  {
   "cell_type": "markdown",
   "id": "06ab16ca",
   "metadata": {
    "id": "06ab16ca"
   },
   "source": [
    "Соотношение негативных к позитивным комментариям сохранилось. Каждый десятый комментарий негативный."
   ]
  },
  {
   "cell_type": "markdown",
   "id": "87f22d46",
   "metadata": {
    "id": "87f22d46"
   },
   "source": [
    "## Обучение"
   ]
  },
  {
   "cell_type": "markdown",
   "id": "5408dd41",
   "metadata": {
    "id": "5408dd41"
   },
   "source": [
    "https://habr.com/ru/post/498144/\n",
    "\n",
    "https://github.com/jalammar/jalammar.github.io/blob/master/notebooks/bert/A_Visual_Notebook_to_Using_BERT_for_the_First_Time.ipynb\n",
    "\n",
    "Обучим переменную модель model, которая содержит предварительно обученную модель Дистилберта DistilBertModel - версию BERT, которая меньше, но намного быстрее и требует гораздо меньше памяти.\n",
    "\n",
    "https://habr.com/ru/post/436878/\n",
    "\n",
    "дополнительно для понимания работы модели BERT изучено\n",
    "\n",
    "https://blog.acolyer.org/2016/04/21/the-amazing-power-of-word-vectors/"
   ]
  },
  {
   "cell_type": "code",
   "execution_count": 15,
   "id": "c7057288",
   "metadata": {
    "colab": {
     "base_uri": "https://localhost:8080/",
     "height": 249,
     "referenced_widgets": [
      "b4c919d074014c688765c0832ee9caef",
      "d78821f335fa4538a42d40ca07ad51d1",
      "2701a94ed0c142c38877633799de4867",
      "7a99d2f0e0eb4f58b5ead9afeb0d8728",
      "755b782b5ab444489d8490f014a69891",
      "b81fc011c286414a866cb2e4fa97909b",
      "a47a264f6e344b5d8eb40773909c92fa",
      "96a7373f8aa14868b4eb7efdbdbdffbf",
      "7481622b570241c9918c7be490f2b0df",
      "803b63a63e874ce28835316bd6972b70",
      "18340fbc801449ccb8cd144db81e0346",
      "0c75f86a0f114dd086b30e2cf056e696",
      "7c54658a4bdb476a988700aa25a9e140",
      "2d044e2aafcc4080a67e52144cbb9ce8",
      "7909d845ef7a48c5aaac35b8234c77b0",
      "986396fdf1bf480da8c6fbb1e9dffe1f",
      "e9df17a9ad7547f388093b77e36eff35",
      "3fdc6397297e47c0b343dd3b55bcc506",
      "35cf067bec974014af8a08d9696a4caa",
      "33c3839e31664820bfc59fd83746347d",
      "cf2a5e0f2c90452ba1143f5bf4f01a7f",
      "49c83cc10d23414b875074bcc3de3110",
      "0d372761717f41c9baafd13a4ba871d8",
      "e0cf6576fb4349e9a7ba00cbdaf8e71b",
      "ba5e42d8493b46eca20d39f038c1d2eb",
      "12c33588303f4120be36f35b9a6a4cd7",
      "e30ddddd5b3c4f32bf6e7108f4fa394a",
      "f86202d8aa0b48a3b983f8df29ee3b84",
      "2185965ba01446faa442562b21eaa067",
      "05585bc5e86a417db2abba6e2f6fb48e",
      "0962da3b03494e80a4feacb25d0fa177",
      "b7976f8408de47c487e3c3158ecb5bef",
      "0f72b33a272e47faacc015b2e8b3f3ed",
      "81f40ed724d243fc99aef9b670e19d33",
      "def001fb73184c87bc3a90b405912d7d",
      "41e6583f97be48d3988b5302f3218d1a",
      "283f094983574e5d8a234b2c28588f72",
      "c4726f8e94f34796b794dfc472392521",
      "9a59ea14fec14f3cb99154be17b74fff",
      "697eaac7a6054bf3a131b19fd99572f1",
      "9f90f2a41365478c97e9444964eeb76a",
      "1b45bc91e39e4068b8d0e9875f710bbb",
      "965c7ebc4dad4a1dbfd974803019f27b",
      "5df6408a1ac040bab3708e172821fe22",
      "f7555f99eb4f43eda0e07e80a7f68edc",
      "147b0878fe4545798863b29cb9ffeb32",
      "e50252964dff4d51aa9eaa0fc801f38b",
      "41aad3b8d639458da0f3eb5a342f534e",
      "68f01d56ad994ec38d7c8001df43ff44",
      "31ac217631e5487189d0db1183f41ab8",
      "bbc9bb89354747e7b31502341246bae6",
      "f2fafcaa4c354f26aa57af60f9461f21",
      "f519f23186084a4ba4490ce17f1ace81",
      "ebe2aaaa7c6a41238b79124c05db55ef",
      "e73ed42f1b9f44108cb6866d0a541af9"
     ]
    },
    "id": "c7057288",
    "outputId": "26f3e3c8-4534-4fe0-89e4-6d6c088f648b",
    "scrolled": true
   },
   "outputs": [
    {
     "data": {
      "application/vnd.jupyter.widget-view+json": {
       "model_id": "b4c919d074014c688765c0832ee9caef",
       "version_major": 2,
       "version_minor": 0
      },
      "text/plain": [
       "Downloading:   0%|          | 0.00/174 [00:00<?, ?B/s]"
      ]
     },
     "metadata": {},
     "output_type": "display_data"
    },
    {
     "data": {
      "application/vnd.jupyter.widget-view+json": {
       "model_id": "0c75f86a0f114dd086b30e2cf056e696",
       "version_major": 2,
       "version_minor": 0
      },
      "text/plain": [
       "Downloading:   0%|          | 0.00/811 [00:00<?, ?B/s]"
      ]
     },
     "metadata": {},
     "output_type": "display_data"
    },
    {
     "data": {
      "application/vnd.jupyter.widget-view+json": {
       "model_id": "0d372761717f41c9baafd13a4ba871d8",
       "version_major": 2,
       "version_minor": 0
      },
      "text/plain": [
       "Downloading:   0%|          | 0.00/232k [00:00<?, ?B/s]"
      ]
     },
     "metadata": {},
     "output_type": "display_data"
    },
    {
     "data": {
      "application/vnd.jupyter.widget-view+json": {
       "model_id": "81f40ed724d243fc99aef9b670e19d33",
       "version_major": 2,
       "version_minor": 0
      },
      "text/plain": [
       "Downloading:   0%|          | 0.00/112 [00:00<?, ?B/s]"
      ]
     },
     "metadata": {},
     "output_type": "display_data"
    },
    {
     "data": {
      "application/vnd.jupyter.widget-view+json": {
       "model_id": "f7555f99eb4f43eda0e07e80a7f68edc",
       "version_major": 2,
       "version_minor": 0
      },
      "text/plain": [
       "Downloading:   0%|          | 0.00/438M [00:00<?, ?B/s]"
      ]
     },
     "metadata": {},
     "output_type": "display_data"
    },
    {
     "name": "stderr",
     "output_type": "stream",
     "text": [
      "Some weights of the model checkpoint at unitary/toxic-bert were not used when initializing BertModel: ['classifier.bias', 'classifier.weight']\n",
      "- This IS expected if you are initializing BertModel from the checkpoint of a model trained on another task or with another architecture (e.g. initializing a BertForSequenceClassification model from a BertForPreTraining model).\n",
      "- This IS NOT expected if you are initializing BertModel from the checkpoint of a model that you expect to be exactly identical (initializing a BertForSequenceClassification model from a BertForSequenceClassification model).\n"
     ]
    }
   ],
   "source": [
    "model_class = transformers.AutoModel\n",
    "tokenizer_class = transformers.AutoTokenizer\n",
    "pretrained_weights = ('unitary/toxic-bert')\n",
    "\n",
    "# Load pretrained model/tokenizer\n",
    "tokenizer = tokenizer_class.from_pretrained(pretrained_weights)\n",
    "model = model_class.from_pretrained(pretrained_weights)"
   ]
  },
  {
   "cell_type": "markdown",
   "id": "1dd7a64d",
   "metadata": {
    "id": "1dd7a64d"
   },
   "source": [
    "Некоторые веса контрольной точки модели в unitary/toxic-bert не использовались при инициализации модели Bert: ['classifier.base', 'classifier.вес']\n",
    "- - Это ожидается, если вы инициализируете модель Bert из контрольной точки модели, обученной для другой задачи или с другой архитектурой (например, инициализируете модель BertForSequenceClassification из модели BertForPreTraining).\n",
    "- - Это НЕ ожидается, если вы инициализируете модель Bert с контрольной точки модели, которая, как вы ожидаете, будет точно идентичной (инициализация модели BertForSequenceClassification из модели BertForSequenceClassification)."
   ]
  },
  {
   "cell_type": "markdown",
   "id": "450564de",
   "metadata": {
    "id": "450564de"
   },
   "source": [
    "## Модель №1: Подготовка набора данных\n",
    "\n",
    "Прежде чем мы сможем раздавать предложения Берту, нам нужно выполнить некоторую минимальную обработку, чтобы привести их в требуемый формат."
   ]
  },
  {
   "cell_type": "markdown",
   "id": "77e05a1c",
   "metadata": {
    "id": "77e05a1c"
   },
   "source": [
    "## Токенизация\n",
    "\n",
    "Наш первый шаг - обозначить предложения - разбить их на слова и подслова в удобном для Берта формате.\n",
    "- сразу обрезаем слишком длинные последовательности до 512 токенов"
   ]
  },
  {
   "cell_type": "code",
   "execution_count": 16,
   "id": "7a80a1bf",
   "metadata": {
    "id": "7a80a1bf",
    "scrolled": true
   },
   "outputs": [],
   "source": [
    "tokenized = df_sample['text'].apply((lambda x: tokenizer.encode(x, max_length=512, truncation=True, add_special_tokens=True)))"
   ]
  },
  {
   "cell_type": "markdown",
   "id": "938e3285",
   "metadata": {
    "id": "938e3285"
   },
   "source": [
    "## Паддинг (отступ)\n",
    "\n",
    "- После токенизации tokenized представляет собой список предложений - каждое предложение представлено в виде списка токенов. \n",
    "- Мы хотим, чтобы БЕРТ обрабатывал наши примеры все сразу (как один пакет). Просто так будет быстрее. \n",
    "- По этой причине нам нужно заполнить все списки одинаковым размером, чтобы мы могли представлять входные данные в виде одного двумерного массива, а не списка списков (разной длины)."
   ]
  },
  {
   "cell_type": "code",
   "execution_count": 17,
   "id": "815a34e5",
   "metadata": {
    "id": "815a34e5"
   },
   "outputs": [],
   "source": [
    "max_len = 0\n",
    "for i in tokenized.values:\n",
    "    if len(i) > max_len:\n",
    "        max_len = len(i)\n",
    "\n",
    "padded = np.array([i + [0]*(max_len-len(i)) for i in tokenized.values])"
   ]
  },
  {
   "cell_type": "markdown",
   "id": "bfd1900b",
   "metadata": {
    "id": "bfd1900b"
   },
   "source": [
    "Наш набор данных теперь находится в дополненной переменной, мы можем просмотреть его размеры ниже:"
   ]
  },
  {
   "cell_type": "code",
   "execution_count": 18,
   "id": "7b159bfe",
   "metadata": {
    "colab": {
     "base_uri": "https://localhost:8080/"
    },
    "id": "7b159bfe",
    "outputId": "94b5b73e-ea2c-481f-ad08-72f8fffc5be0"
   },
   "outputs": [
    {
     "data": {
      "text/plain": [
       "(10000, 512)"
      ]
     },
     "execution_count": 18,
     "metadata": {},
     "output_type": "execute_result"
    }
   ],
   "source": [
    "np.array(padded).shape"
   ]
  },
  {
   "cell_type": "markdown",
   "id": "b879dac3",
   "metadata": {
    "id": "b879dac3"
   },
   "source": [
    "## Маскировка\n",
    "\n",
    "- Если мы напрямую отправим его Берту, это немного запутает ситуацию. \n",
    "- Нам нужно создать другую переменную, чтобы указать ей игнорировать (маскировать) добавленные нами отступы, когда она обрабатывает свои входные данные. Вот что такое attention_mask:"
   ]
  },
  {
   "cell_type": "code",
   "execution_count": 19,
   "id": "c2d075e1",
   "metadata": {
    "colab": {
     "base_uri": "https://localhost:8080/"
    },
    "id": "c2d075e1",
    "outputId": "1e9e1762-d3c7-43cb-e14d-61294ecf790c"
   },
   "outputs": [
    {
     "data": {
      "text/plain": [
       "(10000, 512)"
      ]
     },
     "execution_count": 19,
     "metadata": {},
     "output_type": "execute_result"
    }
   ],
   "source": [
    "attention_mask = np.where(padded != 0, 1, 0)\n",
    "attention_mask.shape"
   ]
  },
  {
   "cell_type": "markdown",
   "id": "2b31fb4c",
   "metadata": {
    "id": "2b31fb4c"
   },
   "source": [
    "## Модель №1: А теперь обучение!\n",
    "\n",
    "Теперь, когда у нас есть наша модель и входные данные, давайте запустим нашу модель!\n",
    "\n",
    "Функция model() прогоняет наши предложения через BERT. Результаты обработки будут возвращены в последние _ скрытые _ состояния last_hidden_states."
   ]
  },
  {
   "cell_type": "markdown",
   "id": "fa4ddcc3",
   "metadata": {
    "id": "fa4ddcc3"
   },
   "source": [
    "Давайте нарежем только ту часть выходных данных, которая нам нужна. Это выходные данные, соответствующие первому символу каждого предложения. Способ, которым BERT выполняет классификацию предложений, заключается в том, что он добавляет маркер с именем [CLS] (для классификации) в начале каждого предложения. Выходные данные, соответствующие этому токену, можно рассматривать как вложение для всего предложения.\n",
    "\n",
    "Мы сохраним их в переменной features, поскольку они будут служить функциями для нашей модели логистической регрессии."
   ]
  },
  {
   "cell_type": "code",
   "execution_count": 20,
   "id": "2bc8fbd7",
   "metadata": {
    "colab": {
     "base_uri": "https://localhost:8080/"
    },
    "id": "2bc8fbd7",
    "outputId": "2edfd4b1-2a63-42f5-f1e5-10eeae557683"
   },
   "outputs": [
    {
     "name": "stdout",
     "output_type": "stream",
     "text": [
      "cuda:0\n"
     ]
    },
    {
     "name": "stderr",
     "output_type": "stream",
     "text": [
      "100%|██████████| 100/100 [05:50<00:00,  3.50s/it]\n"
     ]
    }
   ],
   "source": [
    "batch_size = 100\n",
    "embeddings = []\n",
    "\n",
    "from tqdm import tqdm\n",
    "\n",
    "device = torch.device(\"cuda:0\") if torch.cuda.is_available() else torch.device(\"cpu\")\n",
    "print(device)\n",
    "\n",
    "for i in tqdm(range(tokenized.values.shape[0] // batch_size)):\n",
    "    # преобразуем батч с токенизированными твитами в тензор \n",
    "    # по сути тензор - это многомерный массив, который может быть обработан нейронной сетью\n",
    "    input_ids = torch.LongTensor(padded[batch_size*i:batch_size*(i+1)]).to(device)\n",
    "    # создаем тензор и для подготовленной маски\n",
    "    attention_mask_batch = torch.LongTensor(attention_mask[batch_size*i:batch_size*(i+1)]).to(device)\n",
    "    \n",
    "    # передаем в модель BERT тензор из твитов и маску - на выходе получаем эмбеддинги - вектор текста твита\n",
    "    # torch.no_grad() - для ускорения инференса модели отключим рассчет градиентов\n",
    "    with torch.no_grad():\n",
    "        model.to(device)\n",
    "        last_hidden_states = model(input_ids, attention_mask = attention_mask_batch)\n",
    "    \n",
    "    # в итоге собираем все эмбеддинги твитов в features\n",
    "    embeddings.append(last_hidden_states[0][:,0,:].cpu().numpy())\n",
    "    \n",
    "    torch.cuda.empty_cache()"
   ]
  },
  {
   "cell_type": "code",
   "execution_count": 21,
   "id": "c220383a",
   "metadata": {
    "id": "c220383a"
   },
   "outputs": [],
   "source": [
    "features = np.concatenate(embeddings)\n",
    "target = df_sample['toxic']"
   ]
  },
  {
   "cell_type": "code",
   "execution_count": 22,
   "id": "6bbb5bbd",
   "metadata": {
    "colab": {
     "base_uri": "https://localhost:8080/"
    },
    "id": "6bbb5bbd",
    "outputId": "2f7c8135-7d5c-45b4-89dd-11c3a19f47b9"
   },
   "outputs": [
    {
     "data": {
      "text/plain": [
       "(10000, 768)"
      ]
     },
     "execution_count": 22,
     "metadata": {},
     "output_type": "execute_result"
    }
   ],
   "source": [
    "features.shape"
   ]
  },
  {
   "cell_type": "code",
   "execution_count": 23,
   "id": "b71095aa",
   "metadata": {
    "id": "b71095aa"
   },
   "outputs": [],
   "source": [
    "features_train, features_test, target_train, target_test = train_test_split(features, target, stratify=target,  test_size=0.1, random_state=123)"
   ]
  },
  {
   "cell_type": "code",
   "execution_count": 24,
   "id": "d40af9f0",
   "metadata": {
    "colab": {
     "base_uri": "https://localhost:8080/"
    },
    "id": "d40af9f0",
    "outputId": "3b27ae68-1523-4ba5-eb33-8cc0883b947b"
   },
   "outputs": [
    {
     "data": {
      "text/plain": [
       "(9000, 768)"
      ]
     },
     "execution_count": 24,
     "metadata": {},
     "output_type": "execute_result"
    }
   ],
   "source": [
    "features_train.shape"
   ]
  },
  {
   "cell_type": "markdown",
   "id": "7ae6f7a7",
   "metadata": {
    "id": "7ae6f7a7"
   },
   "source": [
    "Обучим модель LogisticRegression"
   ]
  },
  {
   "cell_type": "code",
   "execution_count": 25,
   "id": "01993d10",
   "metadata": {
    "colab": {
     "base_uri": "https://localhost:8080/"
    },
    "id": "01993d10",
    "outputId": "5ef240dd-b859-4c39-cad3-6743cf1cf834"
   },
   "outputs": [
    {
     "name": "stdout",
     "output_type": "stream",
     "text": [
      "f1_score на тестовой выборке для LogisticRegression:  0.929\n"
     ]
    }
   ],
   "source": [
    "model = LogisticRegression(random_state=123)\n",
    "model.fit(features_train, target_train)\n",
    "pred = model.predict(features_test)\n",
    "print('f1_score на тестовой выборке для LogisticRegression: ', round(f1_score(target_test, pred), 3))"
   ]
  },
  {
   "cell_type": "markdown",
   "id": "669b9a8a",
   "metadata": {
    "id": "669b9a8a"
   },
   "source": [
    "Проверка DummyClassifier"
   ]
  },
  {
   "cell_type": "code",
   "execution_count": 26,
   "id": "1212f245",
   "metadata": {
    "colab": {
     "base_uri": "https://localhost:8080/"
    },
    "id": "1212f245",
    "outputId": "72ce28bf-21a1-406c-af82-4785b69aded8"
   },
   "outputs": [
    {
     "name": "stdout",
     "output_type": "stream",
     "text": [
      "f1_score DummyClassifier на тестовой выборке: 0.072\n"
     ]
    }
   ],
   "source": [
    "from sklearn.dummy import DummyClassifier\n",
    "dummy = DummyClassifier(strategy='stratified')\n",
    "\n",
    "dummy.fit(features_train, target_train)\n",
    "\n",
    "predictions_dummy = dummy.predict(features_test)\n",
    "\n",
    "print('f1_score DummyClassifier на тестовой выборке:', round(f1_score(target_test, predictions_dummy), 3))"
   ]
  },
  {
   "cell_type": "code",
   "execution_count": 27,
   "id": "270aa52b",
   "metadata": {
    "colab": {
     "base_uri": "https://localhost:8080/"
    },
    "id": "270aa52b",
    "outputId": "fad5c18c-4e14-43a3-b4ac-d287e76b1f43"
   },
   "outputs": [
    {
     "name": "stdout",
     "output_type": "stream",
     "text": [
      "Время обучения: 23.49,  время предсказания: 0.028 и качество модели: 0.1\n"
     ]
    }
   ],
   "source": [
    "from lightgbm import LGBMRegressor\n",
    "\n",
    "model_lgbmr = LGBMRegressor()\n",
    "\n",
    "parameters = {'boosting_type': 'gbdt', 'random_state': 123 }\n",
    "\n",
    "model_lgbmr = LGBMRegressor(**parameters)\n",
    "\n",
    "params_lgbmr = [{'class_weight':['balanced', None],\n",
    "                 'C':[1,10,100]\n",
    "                       }]\n",
    "\n",
    "grid_search_lgbmr = GridSearchCV(model_lgbmr, \n",
    "                        params_lgbmr, \n",
    "                        cv = 5, \n",
    "                        verbose = 0, \n",
    "                        n_jobs=-1,\n",
    "                        scoring='neg_root_mean_squared_error')\n",
    "\n",
    "grid_search_lgbmr.fit(features_train, target_train)\n",
    "\n",
    "best_index = grid_search_lgbmr.best_index_\n",
    "\n",
    "fit_time_grid = grid_search_lgbmr.cv_results_['mean_fit_time'][best_index]\n",
    "score_time_grid = grid_search_lgbmr.cv_results_['mean_score_time'][best_index]\n",
    "test_score_grid = abs(grid_search_lgbmr.cv_results_['mean_test_score'][best_index])\n",
    "\n",
    "print('Время обучения: {},  время предсказания: {} и качество модели: {}'.format(fit_time_grid.round(3), score_time_grid.round(3), test_score_grid.round(1)))"
   ]
  },
  {
   "cell_type": "code",
   "execution_count": 28,
   "id": "325c787e",
   "metadata": {
    "colab": {
     "base_uri": "https://localhost:8080/"
    },
    "id": "325c787e",
    "outputId": "8abcf4de-6f52-4c29-9d77-57c01acb5cce"
   },
   "outputs": [
    {
     "name": "stdout",
     "output_type": "stream",
     "text": [
      "RandomForestClassifier 0.923076923076923\n"
     ]
    }
   ],
   "source": [
    "model = RandomForestClassifier(random_state=123, class_weight = 'balanced') \n",
    "model.fit(features_train, target_train)\n",
    "predictions = model.predict(features_test)\n",
    "\n",
    "f1 = f1_score(target_test, predictions)\n",
    "print('RandomForestClassifier', f1)"
   ]
  },
  {
   "cell_type": "markdown",
   "id": "7954d68c",
   "metadata": {
    "id": "7954d68c"
   },
   "source": [
    "RandomForestClassifier показывает результат 0.923"
   ]
  },
  {
   "cell_type": "code",
   "execution_count": 29,
   "id": "a94dc89c",
   "metadata": {
    "colab": {
     "base_uri": "https://localhost:8080/"
    },
    "id": "a94dc89c",
    "outputId": "4dd3a6cc-f252-4556-bb58-34c155868f00"
   },
   "outputs": [
    {
     "name": "stdout",
     "output_type": "stream",
     "text": [
      "CPU times: user 1min 51s, sys: 109 ms, total: 1min 51s\n",
      "Wall time: 1min 51s\n"
     ]
    }
   ],
   "source": [
    "%%time\n",
    "results_rfc = []\n",
    "\n",
    "for depth in range(1,11):\n",
    "    \n",
    "    for estimator in range(10, 51, 10):\n",
    "        \n",
    "        model = RandomForestClassifier(random_state=123, \n",
    "                                       class_weight = 'balanced', \n",
    "                                       n_estimators=estimator, \n",
    "                                       max_depth=depth) \n",
    "        \n",
    "        model.fit(features_train, target_train)\n",
    "        predictions = model.predict(features_test)\n",
    "\n",
    "        f1 = f1_score(target_test, predictions)\n",
    "        results_rfc.append({'Model': 'RandomForestClassifier', \n",
    "                            'Hyperparameters': {'random_state': 123, \n",
    "                                                'class_weight': 'balanced',\n",
    "                                                'n_estimators': estimator, \n",
    "                                                'max_depth':depth}, \n",
    "                            'F1 score': f1})"
   ]
  },
  {
   "cell_type": "code",
   "execution_count": 30,
   "id": "4d6db98d",
   "metadata": {
    "colab": {
     "base_uri": "https://localhost:8080/"
    },
    "id": "4d6db98d",
    "outputId": "07e4d26f-50c5-4452-be4f-22a0357f18c6"
   },
   "outputs": [
    {
     "data": {
      "text/plain": [
       "[{'Model': 'RandomForestClassifier',\n",
       "  'Hyperparameters': {'random_state': 123,\n",
       "   'class_weight': 'balanced',\n",
       "   'n_estimators': 10,\n",
       "   'max_depth': 1},\n",
       "  'F1 score': 0.8255319148936171},\n",
       " {'Model': 'RandomForestClassifier',\n",
       "  'Hyperparameters': {'random_state': 123,\n",
       "   'class_weight': 'balanced',\n",
       "   'n_estimators': 20,\n",
       "   'max_depth': 1},\n",
       "  'F1 score': 0.8533333333333334},\n",
       " {'Model': 'RandomForestClassifier',\n",
       "  'Hyperparameters': {'random_state': 123,\n",
       "   'class_weight': 'balanced',\n",
       "   'n_estimators': 30,\n",
       "   'max_depth': 1},\n",
       "  'F1 score': 0.8648648648648648},\n",
       " {'Model': 'RandomForestClassifier',\n",
       "  'Hyperparameters': {'random_state': 123,\n",
       "   'class_weight': 'balanced',\n",
       "   'n_estimators': 40,\n",
       "   'max_depth': 1},\n",
       "  'F1 score': 0.8533333333333334},\n",
       " {'Model': 'RandomForestClassifier',\n",
       "  'Hyperparameters': {'random_state': 123,\n",
       "   'class_weight': 'balanced',\n",
       "   'n_estimators': 50,\n",
       "   'max_depth': 1},\n",
       "  'F1 score': 0.8495575221238938},\n",
       " {'Model': 'RandomForestClassifier',\n",
       "  'Hyperparameters': {'random_state': 123,\n",
       "   'class_weight': 'balanced',\n",
       "   'n_estimators': 10,\n",
       "   'max_depth': 2},\n",
       "  'F1 score': 0.8533333333333334},\n",
       " {'Model': 'RandomForestClassifier',\n",
       "  'Hyperparameters': {'random_state': 123,\n",
       "   'class_weight': 'balanced',\n",
       "   'n_estimators': 20,\n",
       "   'max_depth': 2},\n",
       "  'F1 score': 0.8727272727272728},\n",
       " {'Model': 'RandomForestClassifier',\n",
       "  'Hyperparameters': {'random_state': 123,\n",
       "   'class_weight': 'balanced',\n",
       "   'n_estimators': 30,\n",
       "   'max_depth': 2},\n",
       "  'F1 score': 0.8727272727272728},\n",
       " {'Model': 'RandomForestClassifier',\n",
       "  'Hyperparameters': {'random_state': 123,\n",
       "   'class_weight': 'balanced',\n",
       "   'n_estimators': 40,\n",
       "   'max_depth': 2},\n",
       "  'F1 score': 0.8727272727272728},\n",
       " {'Model': 'RandomForestClassifier',\n",
       "  'Hyperparameters': {'random_state': 123,\n",
       "   'class_weight': 'balanced',\n",
       "   'n_estimators': 50,\n",
       "   'max_depth': 2},\n",
       "  'F1 score': 0.8767123287671234},\n",
       " {'Model': 'RandomForestClassifier',\n",
       "  'Hyperparameters': {'random_state': 123,\n",
       "   'class_weight': 'balanced',\n",
       "   'n_estimators': 10,\n",
       "   'max_depth': 3},\n",
       "  'F1 score': 0.8888888888888888},\n",
       " {'Model': 'RandomForestClassifier',\n",
       "  'Hyperparameters': {'random_state': 123,\n",
       "   'class_weight': 'balanced',\n",
       "   'n_estimators': 20,\n",
       "   'max_depth': 3},\n",
       "  'F1 score': 0.897196261682243},\n",
       " {'Model': 'RandomForestClassifier',\n",
       "  'Hyperparameters': {'random_state': 123,\n",
       "   'class_weight': 'balanced',\n",
       "   'n_estimators': 30,\n",
       "   'max_depth': 3},\n",
       "  'F1 score': 0.900473933649289},\n",
       " {'Model': 'RandomForestClassifier',\n",
       "  'Hyperparameters': {'random_state': 123,\n",
       "   'class_weight': 'balanced',\n",
       "   'n_estimators': 40,\n",
       "   'max_depth': 3},\n",
       "  'F1 score': 0.9090909090909092},\n",
       " {'Model': 'RandomForestClassifier',\n",
       "  'Hyperparameters': {'random_state': 123,\n",
       "   'class_weight': 'balanced',\n",
       "   'n_estimators': 50,\n",
       "   'max_depth': 3},\n",
       "  'F1 score': 0.9047619047619048},\n",
       " {'Model': 'RandomForestClassifier',\n",
       "  'Hyperparameters': {'random_state': 123,\n",
       "   'class_weight': 'balanced',\n",
       "   'n_estimators': 10,\n",
       "   'max_depth': 4},\n",
       "  'F1 score': 0.9056603773584906},\n",
       " {'Model': 'RandomForestClassifier',\n",
       "  'Hyperparameters': {'random_state': 123,\n",
       "   'class_weight': 'balanced',\n",
       "   'n_estimators': 20,\n",
       "   'max_depth': 4},\n",
       "  'F1 score': 0.9186602870813397},\n",
       " {'Model': 'RandomForestClassifier',\n",
       "  'Hyperparameters': {'random_state': 123,\n",
       "   'class_weight': 'balanced',\n",
       "   'n_estimators': 30,\n",
       "   'max_depth': 4},\n",
       "  'F1 score': 0.9186602870813397},\n",
       " {'Model': 'RandomForestClassifier',\n",
       "  'Hyperparameters': {'random_state': 123,\n",
       "   'class_weight': 'balanced',\n",
       "   'n_estimators': 40,\n",
       "   'max_depth': 4},\n",
       "  'F1 score': 0.9186602870813397},\n",
       " {'Model': 'RandomForestClassifier',\n",
       "  'Hyperparameters': {'random_state': 123,\n",
       "   'class_weight': 'balanced',\n",
       "   'n_estimators': 50,\n",
       "   'max_depth': 4},\n",
       "  'F1 score': 0.9142857142857143},\n",
       " {'Model': 'RandomForestClassifier',\n",
       "  'Hyperparameters': {'random_state': 123,\n",
       "   'class_weight': 'balanced',\n",
       "   'n_estimators': 10,\n",
       "   'max_depth': 5},\n",
       "  'F1 score': 0.9134615384615384},\n",
       " {'Model': 'RandomForestClassifier',\n",
       "  'Hyperparameters': {'random_state': 123,\n",
       "   'class_weight': 'balanced',\n",
       "   'n_estimators': 20,\n",
       "   'max_depth': 5},\n",
       "  'F1 score': 0.912621359223301},\n",
       " {'Model': 'RandomForestClassifier',\n",
       "  'Hyperparameters': {'random_state': 123,\n",
       "   'class_weight': 'balanced',\n",
       "   'n_estimators': 30,\n",
       "   'max_depth': 5},\n",
       "  'F1 score': 0.9215686274509803},\n",
       " {'Model': 'RandomForestClassifier',\n",
       "  'Hyperparameters': {'random_state': 123,\n",
       "   'class_weight': 'balanced',\n",
       "   'n_estimators': 40,\n",
       "   'max_depth': 5},\n",
       "  'F1 score': 0.9215686274509803},\n",
       " {'Model': 'RandomForestClassifier',\n",
       "  'Hyperparameters': {'random_state': 123,\n",
       "   'class_weight': 'balanced',\n",
       "   'n_estimators': 50,\n",
       "   'max_depth': 5},\n",
       "  'F1 score': 0.9170731707317074},\n",
       " {'Model': 'RandomForestClassifier',\n",
       "  'Hyperparameters': {'random_state': 123,\n",
       "   'class_weight': 'balanced',\n",
       "   'n_estimators': 10,\n",
       "   'max_depth': 6},\n",
       "  'F1 score': 0.9170731707317074},\n",
       " {'Model': 'RandomForestClassifier',\n",
       "  'Hyperparameters': {'random_state': 123,\n",
       "   'class_weight': 'balanced',\n",
       "   'n_estimators': 20,\n",
       "   'max_depth': 6},\n",
       "  'F1 score': 0.912621359223301},\n",
       " {'Model': 'RandomForestClassifier',\n",
       "  'Hyperparameters': {'random_state': 123,\n",
       "   'class_weight': 'balanced',\n",
       "   'n_estimators': 30,\n",
       "   'max_depth': 6},\n",
       "  'F1 score': 0.9215686274509803},\n",
       " {'Model': 'RandomForestClassifier',\n",
       "  'Hyperparameters': {'random_state': 123,\n",
       "   'class_weight': 'balanced',\n",
       "   'n_estimators': 40,\n",
       "   'max_depth': 6},\n",
       "  'F1 score': 0.9215686274509803},\n",
       " {'Model': 'RandomForestClassifier',\n",
       "  'Hyperparameters': {'random_state': 123,\n",
       "   'class_weight': 'balanced',\n",
       "   'n_estimators': 50,\n",
       "   'max_depth': 6},\n",
       "  'F1 score': 0.9215686274509803},\n",
       " {'Model': 'RandomForestClassifier',\n",
       "  'Hyperparameters': {'random_state': 123,\n",
       "   'class_weight': 'balanced',\n",
       "   'n_estimators': 10,\n",
       "   'max_depth': 7},\n",
       "  'F1 score': 0.9207920792079209},\n",
       " {'Model': 'RandomForestClassifier',\n",
       "  'Hyperparameters': {'random_state': 123,\n",
       "   'class_weight': 'balanced',\n",
       "   'n_estimators': 20,\n",
       "   'max_depth': 7},\n",
       "  'F1 score': 0.9253731343283583},\n",
       " {'Model': 'RandomForestClassifier',\n",
       "  'Hyperparameters': {'random_state': 123,\n",
       "   'class_weight': 'balanced',\n",
       "   'n_estimators': 30,\n",
       "   'max_depth': 7},\n",
       "  'F1 score': 0.9306930693069307},\n",
       " {'Model': 'RandomForestClassifier',\n",
       "  'Hyperparameters': {'random_state': 123,\n",
       "   'class_weight': 'balanced',\n",
       "   'n_estimators': 40,\n",
       "   'max_depth': 7},\n",
       "  'F1 score': 0.9306930693069307},\n",
       " {'Model': 'RandomForestClassifier',\n",
       "  'Hyperparameters': {'random_state': 123,\n",
       "   'class_weight': 'balanced',\n",
       "   'n_estimators': 50,\n",
       "   'max_depth': 7},\n",
       "  'F1 score': 0.9306930693069307},\n",
       " {'Model': 'RandomForestClassifier',\n",
       "  'Hyperparameters': {'random_state': 123,\n",
       "   'class_weight': 'balanced',\n",
       "   'n_estimators': 10,\n",
       "   'max_depth': 8},\n",
       "  'F1 score': 0.9199999999999999},\n",
       " {'Model': 'RandomForestClassifier',\n",
       "  'Hyperparameters': {'random_state': 123,\n",
       "   'class_weight': 'balanced',\n",
       "   'n_estimators': 20,\n",
       "   'max_depth': 8},\n",
       "  'F1 score': 0.9207920792079209},\n",
       " {'Model': 'RandomForestClassifier',\n",
       "  'Hyperparameters': {'random_state': 123,\n",
       "   'class_weight': 'balanced',\n",
       "   'n_estimators': 30,\n",
       "   'max_depth': 8},\n",
       "  'F1 score': 0.9253731343283583},\n",
       " {'Model': 'RandomForestClassifier',\n",
       "  'Hyperparameters': {'random_state': 123,\n",
       "   'class_weight': 'balanced',\n",
       "   'n_estimators': 40,\n",
       "   'max_depth': 8},\n",
       "  'F1 score': 0.9253731343283583},\n",
       " {'Model': 'RandomForestClassifier',\n",
       "  'Hyperparameters': {'random_state': 123,\n",
       "   'class_weight': 'balanced',\n",
       "   'n_estimators': 50,\n",
       "   'max_depth': 8},\n",
       "  'F1 score': 0.9261083743842364},\n",
       " {'Model': 'RandomForestClassifier',\n",
       "  'Hyperparameters': {'random_state': 123,\n",
       "   'class_weight': 'balanced',\n",
       "   'n_estimators': 10,\n",
       "   'max_depth': 9},\n",
       "  'F1 score': 0.9300000000000002},\n",
       " {'Model': 'RandomForestClassifier',\n",
       "  'Hyperparameters': {'random_state': 123,\n",
       "   'class_weight': 'balanced',\n",
       "   'n_estimators': 20,\n",
       "   'max_depth': 9},\n",
       "  'F1 score': 0.9300000000000002},\n",
       " {'Model': 'RandomForestClassifier',\n",
       "  'Hyperparameters': {'random_state': 123,\n",
       "   'class_weight': 'balanced',\n",
       "   'n_estimators': 30,\n",
       "   'max_depth': 9},\n",
       "  'F1 score': 0.9199999999999999},\n",
       " {'Model': 'RandomForestClassifier',\n",
       "  'Hyperparameters': {'random_state': 123,\n",
       "   'class_weight': 'balanced',\n",
       "   'n_estimators': 40,\n",
       "   'max_depth': 9},\n",
       "  'F1 score': 0.9253731343283583},\n",
       " {'Model': 'RandomForestClassifier',\n",
       "  'Hyperparameters': {'random_state': 123,\n",
       "   'class_weight': 'balanced',\n",
       "   'n_estimators': 50,\n",
       "   'max_depth': 9},\n",
       "  'F1 score': 0.9306930693069307},\n",
       " {'Model': 'RandomForestClassifier',\n",
       "  'Hyperparameters': {'random_state': 123,\n",
       "   'class_weight': 'balanced',\n",
       "   'n_estimators': 10,\n",
       "   'max_depth': 10},\n",
       "  'F1 score': 0.9285714285714285},\n",
       " {'Model': 'RandomForestClassifier',\n",
       "  'Hyperparameters': {'random_state': 123,\n",
       "   'class_weight': 'balanced',\n",
       "   'n_estimators': 20,\n",
       "   'max_depth': 10},\n",
       "  'F1 score': 0.9300000000000002},\n",
       " {'Model': 'RandomForestClassifier',\n",
       "  'Hyperparameters': {'random_state': 123,\n",
       "   'class_weight': 'balanced',\n",
       "   'n_estimators': 30,\n",
       "   'max_depth': 10},\n",
       "  'F1 score': 0.9300000000000002},\n",
       " {'Model': 'RandomForestClassifier',\n",
       "  'Hyperparameters': {'random_state': 123,\n",
       "   'class_weight': 'balanced',\n",
       "   'n_estimators': 40,\n",
       "   'max_depth': 10},\n",
       "  'F1 score': 0.9253731343283583},\n",
       " {'Model': 'RandomForestClassifier',\n",
       "  'Hyperparameters': {'random_state': 123,\n",
       "   'class_weight': 'balanced',\n",
       "   'n_estimators': 50,\n",
       "   'max_depth': 10},\n",
       "  'F1 score': 0.9300000000000002}]"
      ]
     },
     "execution_count": 30,
     "metadata": {},
     "output_type": "execute_result"
    }
   ],
   "source": [
    "results_rfc"
   ]
  },
  {
   "cell_type": "markdown",
   "id": "1Z7W1L0Pa6Ha",
   "metadata": {
    "id": "1Z7W1L0Pa6Ha"
   },
   "source": [
    "С поиском гиперпараметров удалось добиться результата F1 0.93{'Model': 'RandomForestClassifier',\n",
    "  'Hyperparameters': {'random_state': 123,\n",
    "   'class_weight': 'balanced',\n",
    "   'n_estimators': 50,\n",
    "   'max_depth': 10},\n",
    "  'F1 score': 0.9300000000000002}]"
   ]
  },
  {
   "cell_type": "markdown",
   "id": "e9ebcdf3",
   "metadata": {
    "id": "e9ebcdf3"
   },
   "source": [
    "### Дополнительное альтернативное решение"
   ]
  },
  {
   "cell_type": "markdown",
   "id": "5dacba18",
   "metadata": {
    "id": "5dacba18"
   },
   "source": [
    "Попробуем идти другим путем и выполним предобработку текста\n",
    "\n",
    "Очистим текст от лишних символов и лемматизируем\n",
    "\n",
    "Далее функция очистки текста"
   ]
  },
  {
   "cell_type": "code",
   "execution_count": 31,
   "id": "7c851b60",
   "metadata": {
    "id": "7c851b60"
   },
   "outputs": [],
   "source": [
    "def clear_text(text):\n",
    "    \n",
    "    text = text.lower()\n",
    "    \n",
    "    text = re.sub(r'[^a-zA-Z ]', ' ', text).strip()\n",
    "    \n",
    "    # Удаляем html теги\n",
    "    text = re.sub(r'<[^>]+>', ' ', text)\n",
    "    \n",
    "    # Удаляем единичные символы\n",
    "    text = re.sub(r'\\s+[a-zA-Z]\\s+', ' ', text)\n",
    "    \n",
    "    # Удаляем единичные символы из начала строки\n",
    "    text = re.sub(r'\\^[a-zA-Z]\\s+', ' ', text) \n",
    "    \n",
    "    # Заменяем несколько пробелов на один\n",
    "    text = re.sub(r'\\s+', ' ', text, flags=re.I)\n",
    "    \n",
    "    # Удаляем 'b'\n",
    "    text = re.sub(r'^b\\s+', '', text)\n",
    "        \n",
    "    return text"
   ]
  },
  {
   "cell_type": "code",
   "execution_count": 32,
   "id": "c0a3b84d",
   "metadata": {
    "colab": {
     "base_uri": "https://localhost:8080/",
     "height": 206
    },
    "id": "c0a3b84d",
    "outputId": "f5eaf9b4-327f-4c1c-9a7b-790611fe425d"
   },
   "outputs": [
    {
     "data": {
      "text/html": [
       "\n",
       "  <div id=\"df-c4a5ed71-f67f-4513-af4a-86c5015a31d5\">\n",
       "    <div class=\"colab-df-container\">\n",
       "      <div>\n",
       "<style scoped>\n",
       "    .dataframe tbody tr th:only-of-type {\n",
       "        vertical-align: middle;\n",
       "    }\n",
       "\n",
       "    .dataframe tbody tr th {\n",
       "        vertical-align: top;\n",
       "    }\n",
       "\n",
       "    .dataframe thead th {\n",
       "        text-align: right;\n",
       "    }\n",
       "</style>\n",
       "<table border=\"1\" class=\"dataframe\">\n",
       "  <thead>\n",
       "    <tr style=\"text-align: right;\">\n",
       "      <th></th>\n",
       "      <th>text</th>\n",
       "      <th>toxic</th>\n",
       "    </tr>\n",
       "  </thead>\n",
       "  <tbody>\n",
       "    <tr>\n",
       "      <th>0</th>\n",
       "      <td>explanation why the edits made under my userna...</td>\n",
       "      <td>0</td>\n",
       "    </tr>\n",
       "    <tr>\n",
       "      <th>1</th>\n",
       "      <td>d aww he matches this background colour m seem...</td>\n",
       "      <td>0</td>\n",
       "    </tr>\n",
       "    <tr>\n",
       "      <th>2</th>\n",
       "      <td>hey man m really not trying to edit war it jus...</td>\n",
       "      <td>0</td>\n",
       "    </tr>\n",
       "    <tr>\n",
       "      <th>3</th>\n",
       "      <td>more can make any real suggestions on improvem...</td>\n",
       "      <td>0</td>\n",
       "    </tr>\n",
       "    <tr>\n",
       "      <th>4</th>\n",
       "      <td>you sir are my hero any chance you remember wh...</td>\n",
       "      <td>0</td>\n",
       "    </tr>\n",
       "  </tbody>\n",
       "</table>\n",
       "</div>\n",
       "      <button class=\"colab-df-convert\" onclick=\"convertToInteractive('df-c4a5ed71-f67f-4513-af4a-86c5015a31d5')\"\n",
       "              title=\"Convert this dataframe to an interactive table.\"\n",
       "              style=\"display:none;\">\n",
       "        \n",
       "  <svg xmlns=\"http://www.w3.org/2000/svg\" height=\"24px\"viewBox=\"0 0 24 24\"\n",
       "       width=\"24px\">\n",
       "    <path d=\"M0 0h24v24H0V0z\" fill=\"none\"/>\n",
       "    <path d=\"M18.56 5.44l.94 2.06.94-2.06 2.06-.94-2.06-.94-.94-2.06-.94 2.06-2.06.94zm-11 1L8.5 8.5l.94-2.06 2.06-.94-2.06-.94L8.5 2.5l-.94 2.06-2.06.94zm10 10l.94 2.06.94-2.06 2.06-.94-2.06-.94-.94-2.06-.94 2.06-2.06.94z\"/><path d=\"M17.41 7.96l-1.37-1.37c-.4-.4-.92-.59-1.43-.59-.52 0-1.04.2-1.43.59L10.3 9.45l-7.72 7.72c-.78.78-.78 2.05 0 2.83L4 21.41c.39.39.9.59 1.41.59.51 0 1.02-.2 1.41-.59l7.78-7.78 2.81-2.81c.8-.78.8-2.07 0-2.86zM5.41 20L4 18.59l7.72-7.72 1.47 1.35L5.41 20z\"/>\n",
       "  </svg>\n",
       "      </button>\n",
       "      \n",
       "  <style>\n",
       "    .colab-df-container {\n",
       "      display:flex;\n",
       "      flex-wrap:wrap;\n",
       "      gap: 12px;\n",
       "    }\n",
       "\n",
       "    .colab-df-convert {\n",
       "      background-color: #E8F0FE;\n",
       "      border: none;\n",
       "      border-radius: 50%;\n",
       "      cursor: pointer;\n",
       "      display: none;\n",
       "      fill: #1967D2;\n",
       "      height: 32px;\n",
       "      padding: 0 0 0 0;\n",
       "      width: 32px;\n",
       "    }\n",
       "\n",
       "    .colab-df-convert:hover {\n",
       "      background-color: #E2EBFA;\n",
       "      box-shadow: 0px 1px 2px rgba(60, 64, 67, 0.3), 0px 1px 3px 1px rgba(60, 64, 67, 0.15);\n",
       "      fill: #174EA6;\n",
       "    }\n",
       "\n",
       "    [theme=dark] .colab-df-convert {\n",
       "      background-color: #3B4455;\n",
       "      fill: #D2E3FC;\n",
       "    }\n",
       "\n",
       "    [theme=dark] .colab-df-convert:hover {\n",
       "      background-color: #434B5C;\n",
       "      box-shadow: 0px 1px 3px 1px rgba(0, 0, 0, 0.15);\n",
       "      filter: drop-shadow(0px 1px 2px rgba(0, 0, 0, 0.3));\n",
       "      fill: #FFFFFF;\n",
       "    }\n",
       "  </style>\n",
       "\n",
       "      <script>\n",
       "        const buttonEl =\n",
       "          document.querySelector('#df-c4a5ed71-f67f-4513-af4a-86c5015a31d5 button.colab-df-convert');\n",
       "        buttonEl.style.display =\n",
       "          google.colab.kernel.accessAllowed ? 'block' : 'none';\n",
       "\n",
       "        async function convertToInteractive(key) {\n",
       "          const element = document.querySelector('#df-c4a5ed71-f67f-4513-af4a-86c5015a31d5');\n",
       "          const dataTable =\n",
       "            await google.colab.kernel.invokeFunction('convertToInteractive',\n",
       "                                                     [key], {});\n",
       "          if (!dataTable) return;\n",
       "\n",
       "          const docLinkHtml = 'Like what you see? Visit the ' +\n",
       "            '<a target=\"_blank\" href=https://colab.research.google.com/notebooks/data_table.ipynb>data table notebook</a>'\n",
       "            + ' to learn more about interactive tables.';\n",
       "          element.innerHTML = '';\n",
       "          dataTable['output_type'] = 'display_data';\n",
       "          await google.colab.output.renderOutput(dataTable, element);\n",
       "          const docLink = document.createElement('div');\n",
       "          docLink.innerHTML = docLinkHtml;\n",
       "          element.appendChild(docLink);\n",
       "        }\n",
       "      </script>\n",
       "    </div>\n",
       "  </div>\n",
       "  "
      ],
      "text/plain": [
       "                                                text  toxic\n",
       "0  explanation why the edits made under my userna...      0\n",
       "1  d aww he matches this background colour m seem...      0\n",
       "2  hey man m really not trying to edit war it jus...      0\n",
       "3  more can make any real suggestions on improvem...      0\n",
       "4  you sir are my hero any chance you remember wh...      0"
      ]
     },
     "metadata": {},
     "output_type": "display_data"
    }
   ],
   "source": [
    "df['text'] = df['text'].apply(clear_text)\n",
    "display(df.head())"
   ]
  },
  {
   "cell_type": "markdown",
   "id": "436553a8",
   "metadata": {
    "id": "436553a8"
   },
   "source": [
    "Сохранение данных для пропуска шага лемматизации"
   ]
  },
  {
   "cell_type": "markdown",
   "id": "a20e0dda",
   "metadata": {
    "id": "a20e0dda"
   },
   "source": [
    "Вновь разделим данные на обучающую и тестовую выборки в соотношении 80:20."
   ]
  },
  {
   "cell_type": "code",
   "execution_count": 35,
   "id": "5011d427",
   "metadata": {
    "id": "5011d427"
   },
   "outputs": [],
   "source": [
    "features = df['text']\n",
    "target = df['toxic']\n",
    "features_train, features_test, target_train, target_test = train_test_split(features, target, test_size=0.2, random_state=123)"
   ]
  },
  {
   "cell_type": "markdown",
   "id": "cc443137",
   "metadata": {
    "id": "cc443137"
   },
   "source": [
    "Создадим признаки с учетом стоп-слов и выделим целевые признаки"
   ]
  },
  {
   "cell_type": "code",
   "execution_count": 36,
   "id": "353f7228",
   "metadata": {
    "colab": {
     "base_uri": "https://localhost:8080/"
    },
    "id": "353f7228",
    "outputId": "d4bf54be-cf4b-42f5-c5d8-54a9161d44ee"
   },
   "outputs": [
    {
     "name": "stderr",
     "output_type": "stream",
     "text": [
      "[nltk_data] Downloading package stopwords to /root/nltk_data...\n",
      "[nltk_data]   Unzipping corpora/stopwords.zip.\n"
     ]
    }
   ],
   "source": [
    "nltk.download('stopwords')\n",
    "stopwords = set(nltk_stopwords.words('english'))\n",
    "\n",
    "count_tf_idf = TfidfVectorizer(stop_words=stopwords)\n",
    "tf_idf = count_tf_idf.fit(features_train)\n",
    "\n",
    "features_train = tf_idf.transform(features_train)\n",
    "features_test = tf_idf.transform(features_test)"
   ]
  },
  {
   "cell_type": "code",
   "execution_count": 37,
   "id": "49fcccc2",
   "metadata": {
    "colab": {
     "base_uri": "https://localhost:8080/"
    },
    "id": "49fcccc2",
    "outputId": "1b8e622c-8802-482d-be3e-eae7c3513b23"
   },
   "outputs": [
    {
     "name": "stdout",
     "output_type": "stream",
     "text": [
      "f1_score на тестовой выборке для LogisticRegression без подбора параметров:  0.739\n"
     ]
    }
   ],
   "source": [
    "model = LogisticRegression(random_state=123)\n",
    "model.fit(features_train, target_train)\n",
    "pred = model.predict(features_test)\n",
    "print('f1_score на тестовой выборке для LogisticRegression без подбора параметров: ', round(f1_score(target_test, pred), 3))"
   ]
  },
  {
   "cell_type": "markdown",
   "id": "51e4c83f",
   "metadata": {
    "id": "51e4c83f"
   },
   "source": [
    "Результат уже лучше(0.739), но тем не менее не достигнуто пороговое значение f1_score 0,75\n",
    "Попробуем подобрать гиперпараметры для модели LogisticRegression"
   ]
  },
  {
   "cell_type": "code",
   "execution_count": 38,
   "id": "2540d170",
   "metadata": {
    "id": "2540d170"
   },
   "outputs": [],
   "source": [
    "def model_look (model, parameters, features, target):\n",
    "    model_grid = GridSearchCV(model, parameters, cv=5, scoring='f1', verbose=5)\n",
    "    model_grid.fit(features, target)\n",
    "    return model_grid.best_score_, model_grid.best_params_"
   ]
  },
  {
   "cell_type": "code",
   "execution_count": 39,
   "id": "b22dbf16",
   "metadata": {
    "colab": {
     "base_uri": "https://localhost:8080/",
     "height": 627
    },
    "id": "b22dbf16",
    "outputId": "909ec822-f186-444f-b8c5-0d51e06fd117"
   },
   "outputs": [
    {
     "name": "stdout",
     "output_type": "stream",
     "text": [
      "Fitting 5 folds for each of 6 candidates, totalling 30 fits\n",
      "[CV 1/5] END ..................C=23, max_iter=8;, score=0.777 total time=   0.8s\n",
      "[CV 2/5] END ..................C=23, max_iter=8;, score=0.751 total time=   0.8s\n",
      "[CV 3/5] END ..................C=23, max_iter=8;, score=0.762 total time=   0.9s\n",
      "[CV 4/5] END ..................C=23, max_iter=8;, score=0.770 total time=   0.9s\n",
      "[CV 5/5] END ..................C=23, max_iter=8;, score=0.770 total time=   0.9s\n",
      "[CV 1/5] END ..................C=23, max_iter=9;, score=0.779 total time=   1.0s\n",
      "[CV 2/5] END ..................C=23, max_iter=9;, score=0.749 total time=   0.9s\n",
      "[CV 3/5] END ..................C=23, max_iter=9;, score=0.760 total time=   0.9s\n",
      "[CV 4/5] END ..................C=23, max_iter=9;, score=0.767 total time=   1.5s\n",
      "[CV 5/5] END ..................C=23, max_iter=9;, score=0.772 total time=   1.5s\n",
      "[CV 1/5] END ..................C=24, max_iter=8;, score=0.778 total time=   1.4s\n",
      "[CV 2/5] END ..................C=24, max_iter=8;, score=0.751 total time=   0.9s\n",
      "[CV 3/5] END ..................C=24, max_iter=8;, score=0.762 total time=   0.9s\n",
      "[CV 4/5] END ..................C=24, max_iter=8;, score=0.770 total time=   0.9s\n",
      "[CV 5/5] END ..................C=24, max_iter=8;, score=0.770 total time=   0.9s\n",
      "[CV 1/5] END ..................C=24, max_iter=9;, score=0.779 total time=   0.9s\n",
      "[CV 2/5] END ..................C=24, max_iter=9;, score=0.749 total time=   0.9s\n",
      "[CV 3/5] END ..................C=24, max_iter=9;, score=0.760 total time=   1.0s\n",
      "[CV 4/5] END ..................C=24, max_iter=9;, score=0.768 total time=   1.2s\n",
      "[CV 5/5] END ..................C=24, max_iter=9;, score=0.772 total time=   1.0s\n",
      "[CV 1/5] END ..................C=25, max_iter=8;, score=0.778 total time=   0.9s\n",
      "[CV 2/5] END ..................C=25, max_iter=8;, score=0.750 total time=   0.9s\n",
      "[CV 3/5] END ..................C=25, max_iter=8;, score=0.762 total time=   0.9s\n",
      "[CV 4/5] END ..................C=25, max_iter=8;, score=0.770 total time=   0.9s\n",
      "[CV 5/5] END ..................C=25, max_iter=8;, score=0.770 total time=   0.9s\n",
      "[CV 1/5] END ..................C=25, max_iter=9;, score=0.779 total time=   1.0s\n",
      "[CV 2/5] END ..................C=25, max_iter=9;, score=0.749 total time=   0.9s\n",
      "[CV 3/5] END ..................C=25, max_iter=9;, score=0.760 total time=   1.0s\n",
      "[CV 4/5] END ..................C=25, max_iter=9;, score=0.768 total time=   1.0s\n",
      "[CV 5/5] END ..................C=25, max_iter=9;, score=0.772 total time=   1.0s\n"
     ]
    },
    {
     "data": {
      "application/vnd.google.colaboratory.intrinsic+json": {
       "type": "string"
      },
      "text/plain": [
       "'Лучшие параметры модели линейной регрессии:'"
      ]
     },
     "metadata": {},
     "output_type": "display_data"
    },
    {
     "data": {
      "text/plain": [
       "{'C': 25, 'max_iter': 8}"
      ]
     },
     "metadata": {},
     "output_type": "display_data"
    },
    {
     "data": {
      "application/vnd.google.colaboratory.intrinsic+json": {
       "type": "string"
      },
      "text/plain": [
       "'Дали f1 модели:'"
      ]
     },
     "metadata": {},
     "output_type": "display_data"
    },
    {
     "data": {
      "text/plain": [
       "0.7660256656410953"
      ]
     },
     "metadata": {},
     "output_type": "display_data"
    }
   ],
   "source": [
    "parameters = {'C': range(23, 26, 1), 'max_iter': range(8, 10, 1)}\n",
    "f1, best_parameters = model_look (LogisticRegression(random_state=12345, solver='liblinear'), parameters, features_train, target_train)\n",
    "display('Лучшие параметры модели линейной регрессии:', best_parameters)\n",
    "display('Дали f1 модели:', f1)"
   ]
  },
  {
   "cell_type": "markdown",
   "id": "I3HWM8m7onxZ",
   "metadata": {
    "id": "I3HWM8m7onxZ"
   },
   "source": [
    "Неплохой результат f1 модели 0.76, пройдено пороговое значение, но применение модели Берт дало существенно более высокие результаты."
   ]
  },
  {
   "cell_type": "markdown",
   "id": "0898700c",
   "metadata": {
    "id": "0898700c"
   },
   "source": [
    "## Выводы"
   ]
  },
  {
   "cell_type": "markdown",
   "id": "c2340540",
   "metadata": {
    "id": "c2340540"
   },
   "source": [
    "- Данные успешно загружены и обработаны. \n",
    "- Лучший результат, которого удалось добиться - f1_score на тестовой выборке для LogisticRegression:  0.929\n",
    "- На Обучение модели было затрачено 05:38 и f1_score выше требуемой 0,75 существенно.\n",
    "- при поиске гиперпараметров для Случайного Леса качество метрики f1 не увеличилось значительно и значение было всего лишь на 0.001 выше.\n",
    "- Применение модели берт дает более высокий результат итоговых метрик"
   ]
  },
  {
   "cell_type": "markdown",
   "id": "ae2e9dfd",
   "metadata": {
    "id": "ae2e9dfd"
   },
   "source": [
    "## Чек-лист проверки"
   ]
  },
  {
   "cell_type": "markdown",
   "id": "75c43e58",
   "metadata": {
    "id": "75c43e58"
   },
   "source": [
    "- [x]  Jupyter Notebook открыт\n",
    "- [x]  Весь код выполняется без ошибок\n",
    "- [x]  Ячейки с кодом расположены в порядке исполнения\n",
    "- [x]  Данные загружены и подготовлены\n",
    "- [x]  Модели обучены\n",
    "- [x]  Значение метрики *F1* не меньше 0.75\n",
    "- [x]  Выводы написаны"
   ]
  }
 ],
 "metadata": {
  "ExecuteTimeLog": [
   {
    "duration": 2142,
    "start_time": "2022-09-07T07:23:55.996Z"
   },
   {
    "duration": 164,
    "start_time": "2022-09-07T07:23:58.140Z"
   },
   {
    "duration": 25,
    "start_time": "2022-09-07T07:23:58.306Z"
   },
   {
    "duration": 16,
    "start_time": "2022-09-07T07:23:58.335Z"
   },
   {
    "duration": 11,
    "start_time": "2022-09-07T07:23:58.353Z"
   },
   {
    "duration": 8,
    "start_time": "2022-09-07T07:23:58.366Z"
   },
   {
    "duration": 34,
    "start_time": "2022-09-07T07:23:58.375Z"
   },
   {
    "duration": 11,
    "start_time": "2022-09-07T07:23:58.417Z"
   },
   {
    "duration": 9,
    "start_time": "2022-09-07T07:23:58.432Z"
   },
   {
    "duration": 7,
    "start_time": "2022-09-07T07:23:58.443Z"
   },
   {
    "duration": 12,
    "start_time": "2022-09-07T07:23:58.451Z"
   },
   {
    "duration": 448,
    "start_time": "2022-09-07T07:23:58.465Z"
   },
   {
    "duration": 21,
    "start_time": "2022-09-07T07:23:58.915Z"
   },
   {
    "duration": 8,
    "start_time": "2022-09-07T07:23:58.938Z"
   },
   {
    "duration": 6,
    "start_time": "2022-09-07T07:23:58.948Z"
   },
   {
    "duration": 65,
    "start_time": "2022-09-07T07:23:58.956Z"
   },
   {
    "duration": 93,
    "start_time": "2022-09-07T07:23:59.023Z"
   },
   {
    "duration": 128,
    "start_time": "2022-09-07T07:23:59.118Z"
   },
   {
    "duration": 188,
    "start_time": "2022-09-07T07:23:59.306Z"
   },
   {
    "duration": 31,
    "start_time": "2022-09-07T07:23:59.495Z"
   },
   {
    "duration": 88,
    "start_time": "2022-09-07T07:23:59.537Z"
   },
   {
    "duration": 3147,
    "start_time": "2022-10-02T11:35:35.292Z"
   },
   {
    "duration": 1803,
    "start_time": "2022-10-02T11:35:38.441Z"
   },
   {
    "duration": 17,
    "start_time": "2022-10-02T11:35:40.245Z"
   },
   {
    "duration": 140,
    "start_time": "2022-10-02T11:35:40.265Z"
   },
   {
    "duration": 5,
    "start_time": "2022-10-02T11:35:40.406Z"
   },
   {
    "duration": 8,
    "start_time": "2022-10-02T11:35:40.413Z"
   },
   {
    "duration": 436,
    "start_time": "2022-10-02T11:35:40.433Z"
   },
   {
    "duration": 528,
    "start_time": "2022-10-02T11:35:40.870Z"
   },
   {
    "duration": 124,
    "start_time": "2022-10-02T11:35:41.400Z"
   },
   {
    "duration": 102,
    "start_time": "2022-10-02T11:35:41.533Z"
   },
   {
    "duration": 182,
    "start_time": "2022-10-02T11:35:41.637Z"
   },
   {
    "duration": 35,
    "start_time": "2022-10-02T11:35:41.821Z"
   },
   {
    "duration": 3,
    "start_time": "2022-10-02T11:35:41.858Z"
   },
   {
    "duration": 71,
    "start_time": "2022-10-02T11:35:41.862Z"
   },
   {
    "duration": 127,
    "start_time": "2022-10-02T11:35:41.935Z"
   },
   {
    "duration": 13,
    "start_time": "2022-10-02T11:35:42.064Z"
   },
   {
    "duration": 85,
    "start_time": "2022-10-02T11:35:42.078Z"
   },
   {
    "duration": 612,
    "start_time": "2022-10-02T11:35:42.165Z"
   },
   {
    "duration": 219,
    "start_time": "2022-10-02T11:35:42.778Z"
   },
   {
    "duration": 37,
    "start_time": "2022-10-02T11:35:42.998Z"
   },
   {
    "duration": 26,
    "start_time": "2022-10-02T11:35:43.037Z"
   },
   {
    "duration": 105,
    "start_time": "2022-10-02T11:35:43.065Z"
   },
   {
    "duration": 377,
    "start_time": "2022-10-02T11:35:43.172Z"
   },
   {
    "duration": 3,
    "start_time": "2022-10-02T11:35:43.552Z"
   },
   {
    "duration": 243,
    "start_time": "2022-10-02T11:35:43.557Z"
   },
   {
    "duration": 41,
    "start_time": "2022-10-02T11:35:43.801Z"
   },
   {
    "duration": 33,
    "start_time": "2022-10-02T11:35:43.844Z"
   },
   {
    "duration": 30,
    "start_time": "2022-10-02T11:35:43.882Z"
   },
   {
    "duration": 31,
    "start_time": "2022-10-02T11:35:43.914Z"
   },
   {
    "duration": 36,
    "start_time": "2022-10-02T11:35:43.947Z"
   },
   {
    "duration": 32,
    "start_time": "2022-10-02T11:35:43.985Z"
   },
   {
    "duration": 21,
    "start_time": "2022-10-02T11:35:44.018Z"
   },
   {
    "duration": 9,
    "start_time": "2022-10-02T11:35:44.041Z"
   },
   {
    "duration": 7,
    "start_time": "2022-10-02T11:35:44.052Z"
   },
   {
    "duration": 28,
    "start_time": "2022-10-02T11:35:44.060Z"
   },
   {
    "duration": 305,
    "start_time": "2022-10-02T11:35:44.089Z"
   },
   {
    "duration": 75,
    "start_time": "2022-10-02T11:35:44.396Z"
   },
   {
    "duration": 281,
    "start_time": "2022-10-02T11:35:44.472Z"
   },
   {
    "duration": 320,
    "start_time": "2022-10-02T11:35:44.754Z"
   },
   {
    "duration": 8,
    "start_time": "2022-10-02T11:35:45.076Z"
   },
   {
    "duration": 18,
    "start_time": "2022-10-02T11:35:45.086Z"
   },
   {
    "duration": 38,
    "start_time": "2022-10-02T11:35:45.105Z"
   },
   {
    "duration": 24,
    "start_time": "2022-10-02T11:35:45.144Z"
   },
   {
    "duration": 267,
    "start_time": "2022-10-02T11:35:45.170Z"
   },
   {
    "duration": 311,
    "start_time": "2022-10-02T11:35:45.438Z"
   },
   {
    "duration": 5,
    "start_time": "2022-10-02T11:35:45.751Z"
   },
   {
    "duration": 156,
    "start_time": "2022-10-02T11:35:45.757Z"
   },
   {
    "duration": 2,
    "start_time": "2022-10-02T11:35:45.915Z"
   },
   {
    "duration": 22,
    "start_time": "2022-10-02T11:35:45.919Z"
   },
   {
    "duration": 42,
    "start_time": "2022-10-02T11:35:45.943Z"
   },
   {
    "duration": 12,
    "start_time": "2022-10-02T11:35:45.987Z"
   },
   {
    "duration": 6,
    "start_time": "2022-10-02T11:35:46.000Z"
   },
   {
    "duration": 167,
    "start_time": "2022-10-02T11:35:46.007Z"
   },
   {
    "duration": 31,
    "start_time": "2022-10-02T11:37:13.831Z"
   },
   {
    "duration": 13,
    "start_time": "2022-10-02T11:37:14.212Z"
   },
   {
    "duration": 2,
    "start_time": "2022-10-02T11:37:14.771Z"
   },
   {
    "duration": 156,
    "start_time": "2022-10-02T11:37:15.670Z"
   },
   {
    "duration": 3,
    "start_time": "2022-10-02T11:37:23.008Z"
   },
   {
    "duration": 1206,
    "start_time": "2022-10-02T11:37:23.816Z"
   },
   {
    "duration": 2675,
    "start_time": "2022-10-02T11:37:33.462Z"
   }
  ],
  "accelerator": "GPU",
  "colab": {
   "collapsed_sections": [
    "450564de",
    "ae2e9dfd"
   ],
   "provenance": []
  },
  "gpuClass": "standard",
  "kernelspec": {
   "display_name": "Python 3 (ipykernel)",
   "language": "python",
   "name": "python3"
  },
  "language_info": {
   "codemirror_mode": {
    "name": "ipython",
    "version": 3
   },
   "file_extension": ".py",
   "mimetype": "text/x-python",
   "name": "python",
   "nbconvert_exporter": "python",
   "pygments_lexer": "ipython3",
   "version": "3.9.7"
  },
  "toc": {
   "base_numbering": 1,
   "nav_menu": {},
   "number_sections": true,
   "sideBar": true,
   "skip_h1_title": true,
   "title_cell": "Table of Contents",
   "title_sidebar": "Contents",
   "toc_cell": false,
   "toc_position": {},
   "toc_section_display": true,
   "toc_window_display": false
  },
  "widgets": {
   "application/vnd.jupyter.widget-state+json": {
    "05585bc5e86a417db2abba6e2f6fb48e": {
     "model_module": "@jupyter-widgets/base",
     "model_module_version": "1.2.0",
     "model_name": "LayoutModel",
     "state": {
      "_model_module": "@jupyter-widgets/base",
      "_model_module_version": "1.2.0",
      "_model_name": "LayoutModel",
      "_view_count": null,
      "_view_module": "@jupyter-widgets/base",
      "_view_module_version": "1.2.0",
      "_view_name": "LayoutView",
      "align_content": null,
      "align_items": null,
      "align_self": null,
      "border": null,
      "bottom": null,
      "display": null,
      "flex": null,
      "flex_flow": null,
      "grid_area": null,
      "grid_auto_columns": null,
      "grid_auto_flow": null,
      "grid_auto_rows": null,
      "grid_column": null,
      "grid_gap": null,
      "grid_row": null,
      "grid_template_areas": null,
      "grid_template_columns": null,
      "grid_template_rows": null,
      "height": null,
      "justify_content": null,
      "justify_items": null,
      "left": null,
      "margin": null,
      "max_height": null,
      "max_width": null,
      "min_height": null,
      "min_width": null,
      "object_fit": null,
      "object_position": null,
      "order": null,
      "overflow": null,
      "overflow_x": null,
      "overflow_y": null,
      "padding": null,
      "right": null,
      "top": null,
      "visibility": null,
      "width": null
     }
    },
    "0962da3b03494e80a4feacb25d0fa177": {
     "model_module": "@jupyter-widgets/controls",
     "model_module_version": "1.5.0",
     "model_name": "ProgressStyleModel",
     "state": {
      "_model_module": "@jupyter-widgets/controls",
      "_model_module_version": "1.5.0",
      "_model_name": "ProgressStyleModel",
      "_view_count": null,
      "_view_module": "@jupyter-widgets/base",
      "_view_module_version": "1.2.0",
      "_view_name": "StyleView",
      "bar_color": null,
      "description_width": ""
     }
    },
    "0c75f86a0f114dd086b30e2cf056e696": {
     "model_module": "@jupyter-widgets/controls",
     "model_module_version": "1.5.0",
     "model_name": "HBoxModel",
     "state": {
      "_dom_classes": [],
      "_model_module": "@jupyter-widgets/controls",
      "_model_module_version": "1.5.0",
      "_model_name": "HBoxModel",
      "_view_count": null,
      "_view_module": "@jupyter-widgets/controls",
      "_view_module_version": "1.5.0",
      "_view_name": "HBoxView",
      "box_style": "",
      "children": [
       "IPY_MODEL_7c54658a4bdb476a988700aa25a9e140",
       "IPY_MODEL_2d044e2aafcc4080a67e52144cbb9ce8",
       "IPY_MODEL_7909d845ef7a48c5aaac35b8234c77b0"
      ],
      "layout": "IPY_MODEL_986396fdf1bf480da8c6fbb1e9dffe1f"
     }
    },
    "0d372761717f41c9baafd13a4ba871d8": {
     "model_module": "@jupyter-widgets/controls",
     "model_module_version": "1.5.0",
     "model_name": "HBoxModel",
     "state": {
      "_dom_classes": [],
      "_model_module": "@jupyter-widgets/controls",
      "_model_module_version": "1.5.0",
      "_model_name": "HBoxModel",
      "_view_count": null,
      "_view_module": "@jupyter-widgets/controls",
      "_view_module_version": "1.5.0",
      "_view_name": "HBoxView",
      "box_style": "",
      "children": [
       "IPY_MODEL_e0cf6576fb4349e9a7ba00cbdaf8e71b",
       "IPY_MODEL_ba5e42d8493b46eca20d39f038c1d2eb",
       "IPY_MODEL_12c33588303f4120be36f35b9a6a4cd7"
      ],
      "layout": "IPY_MODEL_e30ddddd5b3c4f32bf6e7108f4fa394a"
     }
    },
    "0f72b33a272e47faacc015b2e8b3f3ed": {
     "model_module": "@jupyter-widgets/controls",
     "model_module_version": "1.5.0",
     "model_name": "DescriptionStyleModel",
     "state": {
      "_model_module": "@jupyter-widgets/controls",
      "_model_module_version": "1.5.0",
      "_model_name": "DescriptionStyleModel",
      "_view_count": null,
      "_view_module": "@jupyter-widgets/base",
      "_view_module_version": "1.2.0",
      "_view_name": "StyleView",
      "description_width": ""
     }
    },
    "12c33588303f4120be36f35b9a6a4cd7": {
     "model_module": "@jupyter-widgets/controls",
     "model_module_version": "1.5.0",
     "model_name": "HTMLModel",
     "state": {
      "_dom_classes": [],
      "_model_module": "@jupyter-widgets/controls",
      "_model_module_version": "1.5.0",
      "_model_name": "HTMLModel",
      "_view_count": null,
      "_view_module": "@jupyter-widgets/controls",
      "_view_module_version": "1.5.0",
      "_view_name": "HTMLView",
      "description": "",
      "description_tooltip": null,
      "layout": "IPY_MODEL_b7976f8408de47c487e3c3158ecb5bef",
      "placeholder": "​",
      "style": "IPY_MODEL_0f72b33a272e47faacc015b2e8b3f3ed",
      "value": " 232k/232k [00:00&lt;00:00, 516kB/s]"
     }
    },
    "147b0878fe4545798863b29cb9ffeb32": {
     "model_module": "@jupyter-widgets/controls",
     "model_module_version": "1.5.0",
     "model_name": "HTMLModel",
     "state": {
      "_dom_classes": [],
      "_model_module": "@jupyter-widgets/controls",
      "_model_module_version": "1.5.0",
      "_model_name": "HTMLModel",
      "_view_count": null,
      "_view_module": "@jupyter-widgets/controls",
      "_view_module_version": "1.5.0",
      "_view_name": "HTMLView",
      "description": "",
      "description_tooltip": null,
      "layout": "IPY_MODEL_31ac217631e5487189d0db1183f41ab8",
      "placeholder": "​",
      "style": "IPY_MODEL_bbc9bb89354747e7b31502341246bae6",
      "value": "Downloading: 100%"
     }
    },
    "18340fbc801449ccb8cd144db81e0346": {
     "model_module": "@jupyter-widgets/controls",
     "model_module_version": "1.5.0",
     "model_name": "DescriptionStyleModel",
     "state": {
      "_model_module": "@jupyter-widgets/controls",
      "_model_module_version": "1.5.0",
      "_model_name": "DescriptionStyleModel",
      "_view_count": null,
      "_view_module": "@jupyter-widgets/base",
      "_view_module_version": "1.2.0",
      "_view_name": "StyleView",
      "description_width": ""
     }
    },
    "1b45bc91e39e4068b8d0e9875f710bbb": {
     "model_module": "@jupyter-widgets/controls",
     "model_module_version": "1.5.0",
     "model_name": "ProgressStyleModel",
     "state": {
      "_model_module": "@jupyter-widgets/controls",
      "_model_module_version": "1.5.0",
      "_model_name": "ProgressStyleModel",
      "_view_count": null,
      "_view_module": "@jupyter-widgets/base",
      "_view_module_version": "1.2.0",
      "_view_name": "StyleView",
      "bar_color": null,
      "description_width": ""
     }
    },
    "2185965ba01446faa442562b21eaa067": {
     "model_module": "@jupyter-widgets/controls",
     "model_module_version": "1.5.0",
     "model_name": "DescriptionStyleModel",
     "state": {
      "_model_module": "@jupyter-widgets/controls",
      "_model_module_version": "1.5.0",
      "_model_name": "DescriptionStyleModel",
      "_view_count": null,
      "_view_module": "@jupyter-widgets/base",
      "_view_module_version": "1.2.0",
      "_view_name": "StyleView",
      "description_width": ""
     }
    },
    "2701a94ed0c142c38877633799de4867": {
     "model_module": "@jupyter-widgets/controls",
     "model_module_version": "1.5.0",
     "model_name": "FloatProgressModel",
     "state": {
      "_dom_classes": [],
      "_model_module": "@jupyter-widgets/controls",
      "_model_module_version": "1.5.0",
      "_model_name": "FloatProgressModel",
      "_view_count": null,
      "_view_module": "@jupyter-widgets/controls",
      "_view_module_version": "1.5.0",
      "_view_name": "ProgressView",
      "bar_style": "success",
      "description": "",
      "description_tooltip": null,
      "layout": "IPY_MODEL_96a7373f8aa14868b4eb7efdbdbdffbf",
      "max": 174,
      "min": 0,
      "orientation": "horizontal",
      "style": "IPY_MODEL_7481622b570241c9918c7be490f2b0df",
      "value": 174
     }
    },
    "283f094983574e5d8a234b2c28588f72": {
     "model_module": "@jupyter-widgets/controls",
     "model_module_version": "1.5.0",
     "model_name": "HTMLModel",
     "state": {
      "_dom_classes": [],
      "_model_module": "@jupyter-widgets/controls",
      "_model_module_version": "1.5.0",
      "_model_name": "HTMLModel",
      "_view_count": null,
      "_view_module": "@jupyter-widgets/controls",
      "_view_module_version": "1.5.0",
      "_view_name": "HTMLView",
      "description": "",
      "description_tooltip": null,
      "layout": "IPY_MODEL_965c7ebc4dad4a1dbfd974803019f27b",
      "placeholder": "​",
      "style": "IPY_MODEL_5df6408a1ac040bab3708e172821fe22",
      "value": " 112/112 [00:00&lt;00:00, 1.39kB/s]"
     }
    },
    "2d044e2aafcc4080a67e52144cbb9ce8": {
     "model_module": "@jupyter-widgets/controls",
     "model_module_version": "1.5.0",
     "model_name": "FloatProgressModel",
     "state": {
      "_dom_classes": [],
      "_model_module": "@jupyter-widgets/controls",
      "_model_module_version": "1.5.0",
      "_model_name": "FloatProgressModel",
      "_view_count": null,
      "_view_module": "@jupyter-widgets/controls",
      "_view_module_version": "1.5.0",
      "_view_name": "ProgressView",
      "bar_style": "success",
      "description": "",
      "description_tooltip": null,
      "layout": "IPY_MODEL_35cf067bec974014af8a08d9696a4caa",
      "max": 811,
      "min": 0,
      "orientation": "horizontal",
      "style": "IPY_MODEL_33c3839e31664820bfc59fd83746347d",
      "value": 811
     }
    },
    "31ac217631e5487189d0db1183f41ab8": {
     "model_module": "@jupyter-widgets/base",
     "model_module_version": "1.2.0",
     "model_name": "LayoutModel",
     "state": {
      "_model_module": "@jupyter-widgets/base",
      "_model_module_version": "1.2.0",
      "_model_name": "LayoutModel",
      "_view_count": null,
      "_view_module": "@jupyter-widgets/base",
      "_view_module_version": "1.2.0",
      "_view_name": "LayoutView",
      "align_content": null,
      "align_items": null,
      "align_self": null,
      "border": null,
      "bottom": null,
      "display": null,
      "flex": null,
      "flex_flow": null,
      "grid_area": null,
      "grid_auto_columns": null,
      "grid_auto_flow": null,
      "grid_auto_rows": null,
      "grid_column": null,
      "grid_gap": null,
      "grid_row": null,
      "grid_template_areas": null,
      "grid_template_columns": null,
      "grid_template_rows": null,
      "height": null,
      "justify_content": null,
      "justify_items": null,
      "left": null,
      "margin": null,
      "max_height": null,
      "max_width": null,
      "min_height": null,
      "min_width": null,
      "object_fit": null,
      "object_position": null,
      "order": null,
      "overflow": null,
      "overflow_x": null,
      "overflow_y": null,
      "padding": null,
      "right": null,
      "top": null,
      "visibility": null,
      "width": null
     }
    },
    "33c3839e31664820bfc59fd83746347d": {
     "model_module": "@jupyter-widgets/controls",
     "model_module_version": "1.5.0",
     "model_name": "ProgressStyleModel",
     "state": {
      "_model_module": "@jupyter-widgets/controls",
      "_model_module_version": "1.5.0",
      "_model_name": "ProgressStyleModel",
      "_view_count": null,
      "_view_module": "@jupyter-widgets/base",
      "_view_module_version": "1.2.0",
      "_view_name": "StyleView",
      "bar_color": null,
      "description_width": ""
     }
    },
    "35cf067bec974014af8a08d9696a4caa": {
     "model_module": "@jupyter-widgets/base",
     "model_module_version": "1.2.0",
     "model_name": "LayoutModel",
     "state": {
      "_model_module": "@jupyter-widgets/base",
      "_model_module_version": "1.2.0",
      "_model_name": "LayoutModel",
      "_view_count": null,
      "_view_module": "@jupyter-widgets/base",
      "_view_module_version": "1.2.0",
      "_view_name": "LayoutView",
      "align_content": null,
      "align_items": null,
      "align_self": null,
      "border": null,
      "bottom": null,
      "display": null,
      "flex": null,
      "flex_flow": null,
      "grid_area": null,
      "grid_auto_columns": null,
      "grid_auto_flow": null,
      "grid_auto_rows": null,
      "grid_column": null,
      "grid_gap": null,
      "grid_row": null,
      "grid_template_areas": null,
      "grid_template_columns": null,
      "grid_template_rows": null,
      "height": null,
      "justify_content": null,
      "justify_items": null,
      "left": null,
      "margin": null,
      "max_height": null,
      "max_width": null,
      "min_height": null,
      "min_width": null,
      "object_fit": null,
      "object_position": null,
      "order": null,
      "overflow": null,
      "overflow_x": null,
      "overflow_y": null,
      "padding": null,
      "right": null,
      "top": null,
      "visibility": null,
      "width": null
     }
    },
    "3fdc6397297e47c0b343dd3b55bcc506": {
     "model_module": "@jupyter-widgets/controls",
     "model_module_version": "1.5.0",
     "model_name": "DescriptionStyleModel",
     "state": {
      "_model_module": "@jupyter-widgets/controls",
      "_model_module_version": "1.5.0",
      "_model_name": "DescriptionStyleModel",
      "_view_count": null,
      "_view_module": "@jupyter-widgets/base",
      "_view_module_version": "1.2.0",
      "_view_name": "StyleView",
      "description_width": ""
     }
    },
    "41aad3b8d639458da0f3eb5a342f534e": {
     "model_module": "@jupyter-widgets/controls",
     "model_module_version": "1.5.0",
     "model_name": "HTMLModel",
     "state": {
      "_dom_classes": [],
      "_model_module": "@jupyter-widgets/controls",
      "_model_module_version": "1.5.0",
      "_model_name": "HTMLModel",
      "_view_count": null,
      "_view_module": "@jupyter-widgets/controls",
      "_view_module_version": "1.5.0",
      "_view_name": "HTMLView",
      "description": "",
      "description_tooltip": null,
      "layout": "IPY_MODEL_ebe2aaaa7c6a41238b79124c05db55ef",
      "placeholder": "​",
      "style": "IPY_MODEL_e73ed42f1b9f44108cb6866d0a541af9",
      "value": " 438M/438M [00:15&lt;00:00, 45.1MB/s]"
     }
    },
    "41e6583f97be48d3988b5302f3218d1a": {
     "model_module": "@jupyter-widgets/controls",
     "model_module_version": "1.5.0",
     "model_name": "FloatProgressModel",
     "state": {
      "_dom_classes": [],
      "_model_module": "@jupyter-widgets/controls",
      "_model_module_version": "1.5.0",
      "_model_name": "FloatProgressModel",
      "_view_count": null,
      "_view_module": "@jupyter-widgets/controls",
      "_view_module_version": "1.5.0",
      "_view_name": "ProgressView",
      "bar_style": "success",
      "description": "",
      "description_tooltip": null,
      "layout": "IPY_MODEL_9f90f2a41365478c97e9444964eeb76a",
      "max": 112,
      "min": 0,
      "orientation": "horizontal",
      "style": "IPY_MODEL_1b45bc91e39e4068b8d0e9875f710bbb",
      "value": 112
     }
    },
    "49c83cc10d23414b875074bcc3de3110": {
     "model_module": "@jupyter-widgets/controls",
     "model_module_version": "1.5.0",
     "model_name": "DescriptionStyleModel",
     "state": {
      "_model_module": "@jupyter-widgets/controls",
      "_model_module_version": "1.5.0",
      "_model_name": "DescriptionStyleModel",
      "_view_count": null,
      "_view_module": "@jupyter-widgets/base",
      "_view_module_version": "1.2.0",
      "_view_name": "StyleView",
      "description_width": ""
     }
    },
    "5df6408a1ac040bab3708e172821fe22": {
     "model_module": "@jupyter-widgets/controls",
     "model_module_version": "1.5.0",
     "model_name": "DescriptionStyleModel",
     "state": {
      "_model_module": "@jupyter-widgets/controls",
      "_model_module_version": "1.5.0",
      "_model_name": "DescriptionStyleModel",
      "_view_count": null,
      "_view_module": "@jupyter-widgets/base",
      "_view_module_version": "1.2.0",
      "_view_name": "StyleView",
      "description_width": ""
     }
    },
    "68f01d56ad994ec38d7c8001df43ff44": {
     "model_module": "@jupyter-widgets/base",
     "model_module_version": "1.2.0",
     "model_name": "LayoutModel",
     "state": {
      "_model_module": "@jupyter-widgets/base",
      "_model_module_version": "1.2.0",
      "_model_name": "LayoutModel",
      "_view_count": null,
      "_view_module": "@jupyter-widgets/base",
      "_view_module_version": "1.2.0",
      "_view_name": "LayoutView",
      "align_content": null,
      "align_items": null,
      "align_self": null,
      "border": null,
      "bottom": null,
      "display": null,
      "flex": null,
      "flex_flow": null,
      "grid_area": null,
      "grid_auto_columns": null,
      "grid_auto_flow": null,
      "grid_auto_rows": null,
      "grid_column": null,
      "grid_gap": null,
      "grid_row": null,
      "grid_template_areas": null,
      "grid_template_columns": null,
      "grid_template_rows": null,
      "height": null,
      "justify_content": null,
      "justify_items": null,
      "left": null,
      "margin": null,
      "max_height": null,
      "max_width": null,
      "min_height": null,
      "min_width": null,
      "object_fit": null,
      "object_position": null,
      "order": null,
      "overflow": null,
      "overflow_x": null,
      "overflow_y": null,
      "padding": null,
      "right": null,
      "top": null,
      "visibility": null,
      "width": null
     }
    },
    "697eaac7a6054bf3a131b19fd99572f1": {
     "model_module": "@jupyter-widgets/controls",
     "model_module_version": "1.5.0",
     "model_name": "DescriptionStyleModel",
     "state": {
      "_model_module": "@jupyter-widgets/controls",
      "_model_module_version": "1.5.0",
      "_model_name": "DescriptionStyleModel",
      "_view_count": null,
      "_view_module": "@jupyter-widgets/base",
      "_view_module_version": "1.2.0",
      "_view_name": "StyleView",
      "description_width": ""
     }
    },
    "7481622b570241c9918c7be490f2b0df": {
     "model_module": "@jupyter-widgets/controls",
     "model_module_version": "1.5.0",
     "model_name": "ProgressStyleModel",
     "state": {
      "_model_module": "@jupyter-widgets/controls",
      "_model_module_version": "1.5.0",
      "_model_name": "ProgressStyleModel",
      "_view_count": null,
      "_view_module": "@jupyter-widgets/base",
      "_view_module_version": "1.2.0",
      "_view_name": "StyleView",
      "bar_color": null,
      "description_width": ""
     }
    },
    "755b782b5ab444489d8490f014a69891": {
     "model_module": "@jupyter-widgets/base",
     "model_module_version": "1.2.0",
     "model_name": "LayoutModel",
     "state": {
      "_model_module": "@jupyter-widgets/base",
      "_model_module_version": "1.2.0",
      "_model_name": "LayoutModel",
      "_view_count": null,
      "_view_module": "@jupyter-widgets/base",
      "_view_module_version": "1.2.0",
      "_view_name": "LayoutView",
      "align_content": null,
      "align_items": null,
      "align_self": null,
      "border": null,
      "bottom": null,
      "display": null,
      "flex": null,
      "flex_flow": null,
      "grid_area": null,
      "grid_auto_columns": null,
      "grid_auto_flow": null,
      "grid_auto_rows": null,
      "grid_column": null,
      "grid_gap": null,
      "grid_row": null,
      "grid_template_areas": null,
      "grid_template_columns": null,
      "grid_template_rows": null,
      "height": null,
      "justify_content": null,
      "justify_items": null,
      "left": null,
      "margin": null,
      "max_height": null,
      "max_width": null,
      "min_height": null,
      "min_width": null,
      "object_fit": null,
      "object_position": null,
      "order": null,
      "overflow": null,
      "overflow_x": null,
      "overflow_y": null,
      "padding": null,
      "right": null,
      "top": null,
      "visibility": null,
      "width": null
     }
    },
    "7909d845ef7a48c5aaac35b8234c77b0": {
     "model_module": "@jupyter-widgets/controls",
     "model_module_version": "1.5.0",
     "model_name": "HTMLModel",
     "state": {
      "_dom_classes": [],
      "_model_module": "@jupyter-widgets/controls",
      "_model_module_version": "1.5.0",
      "_model_name": "HTMLModel",
      "_view_count": null,
      "_view_module": "@jupyter-widgets/controls",
      "_view_module_version": "1.5.0",
      "_view_name": "HTMLView",
      "description": "",
      "description_tooltip": null,
      "layout": "IPY_MODEL_cf2a5e0f2c90452ba1143f5bf4f01a7f",
      "placeholder": "​",
      "style": "IPY_MODEL_49c83cc10d23414b875074bcc3de3110",
      "value": " 811/811 [00:00&lt;00:00, 8.62kB/s]"
     }
    },
    "7a99d2f0e0eb4f58b5ead9afeb0d8728": {
     "model_module": "@jupyter-widgets/controls",
     "model_module_version": "1.5.0",
     "model_name": "HTMLModel",
     "state": {
      "_dom_classes": [],
      "_model_module": "@jupyter-widgets/controls",
      "_model_module_version": "1.5.0",
      "_model_name": "HTMLModel",
      "_view_count": null,
      "_view_module": "@jupyter-widgets/controls",
      "_view_module_version": "1.5.0",
      "_view_name": "HTMLView",
      "description": "",
      "description_tooltip": null,
      "layout": "IPY_MODEL_803b63a63e874ce28835316bd6972b70",
      "placeholder": "​",
      "style": "IPY_MODEL_18340fbc801449ccb8cd144db81e0346",
      "value": " 174/174 [00:00&lt;00:00, 1.56kB/s]"
     }
    },
    "7c54658a4bdb476a988700aa25a9e140": {
     "model_module": "@jupyter-widgets/controls",
     "model_module_version": "1.5.0",
     "model_name": "HTMLModel",
     "state": {
      "_dom_classes": [],
      "_model_module": "@jupyter-widgets/controls",
      "_model_module_version": "1.5.0",
      "_model_name": "HTMLModel",
      "_view_count": null,
      "_view_module": "@jupyter-widgets/controls",
      "_view_module_version": "1.5.0",
      "_view_name": "HTMLView",
      "description": "",
      "description_tooltip": null,
      "layout": "IPY_MODEL_e9df17a9ad7547f388093b77e36eff35",
      "placeholder": "​",
      "style": "IPY_MODEL_3fdc6397297e47c0b343dd3b55bcc506",
      "value": "Downloading: 100%"
     }
    },
    "803b63a63e874ce28835316bd6972b70": {
     "model_module": "@jupyter-widgets/base",
     "model_module_version": "1.2.0",
     "model_name": "LayoutModel",
     "state": {
      "_model_module": "@jupyter-widgets/base",
      "_model_module_version": "1.2.0",
      "_model_name": "LayoutModel",
      "_view_count": null,
      "_view_module": "@jupyter-widgets/base",
      "_view_module_version": "1.2.0",
      "_view_name": "LayoutView",
      "align_content": null,
      "align_items": null,
      "align_self": null,
      "border": null,
      "bottom": null,
      "display": null,
      "flex": null,
      "flex_flow": null,
      "grid_area": null,
      "grid_auto_columns": null,
      "grid_auto_flow": null,
      "grid_auto_rows": null,
      "grid_column": null,
      "grid_gap": null,
      "grid_row": null,
      "grid_template_areas": null,
      "grid_template_columns": null,
      "grid_template_rows": null,
      "height": null,
      "justify_content": null,
      "justify_items": null,
      "left": null,
      "margin": null,
      "max_height": null,
      "max_width": null,
      "min_height": null,
      "min_width": null,
      "object_fit": null,
      "object_position": null,
      "order": null,
      "overflow": null,
      "overflow_x": null,
      "overflow_y": null,
      "padding": null,
      "right": null,
      "top": null,
      "visibility": null,
      "width": null
     }
    },
    "81f40ed724d243fc99aef9b670e19d33": {
     "model_module": "@jupyter-widgets/controls",
     "model_module_version": "1.5.0",
     "model_name": "HBoxModel",
     "state": {
      "_dom_classes": [],
      "_model_module": "@jupyter-widgets/controls",
      "_model_module_version": "1.5.0",
      "_model_name": "HBoxModel",
      "_view_count": null,
      "_view_module": "@jupyter-widgets/controls",
      "_view_module_version": "1.5.0",
      "_view_name": "HBoxView",
      "box_style": "",
      "children": [
       "IPY_MODEL_def001fb73184c87bc3a90b405912d7d",
       "IPY_MODEL_41e6583f97be48d3988b5302f3218d1a",
       "IPY_MODEL_283f094983574e5d8a234b2c28588f72"
      ],
      "layout": "IPY_MODEL_c4726f8e94f34796b794dfc472392521"
     }
    },
    "965c7ebc4dad4a1dbfd974803019f27b": {
     "model_module": "@jupyter-widgets/base",
     "model_module_version": "1.2.0",
     "model_name": "LayoutModel",
     "state": {
      "_model_module": "@jupyter-widgets/base",
      "_model_module_version": "1.2.0",
      "_model_name": "LayoutModel",
      "_view_count": null,
      "_view_module": "@jupyter-widgets/base",
      "_view_module_version": "1.2.0",
      "_view_name": "LayoutView",
      "align_content": null,
      "align_items": null,
      "align_self": null,
      "border": null,
      "bottom": null,
      "display": null,
      "flex": null,
      "flex_flow": null,
      "grid_area": null,
      "grid_auto_columns": null,
      "grid_auto_flow": null,
      "grid_auto_rows": null,
      "grid_column": null,
      "grid_gap": null,
      "grid_row": null,
      "grid_template_areas": null,
      "grid_template_columns": null,
      "grid_template_rows": null,
      "height": null,
      "justify_content": null,
      "justify_items": null,
      "left": null,
      "margin": null,
      "max_height": null,
      "max_width": null,
      "min_height": null,
      "min_width": null,
      "object_fit": null,
      "object_position": null,
      "order": null,
      "overflow": null,
      "overflow_x": null,
      "overflow_y": null,
      "padding": null,
      "right": null,
      "top": null,
      "visibility": null,
      "width": null
     }
    },
    "96a7373f8aa14868b4eb7efdbdbdffbf": {
     "model_module": "@jupyter-widgets/base",
     "model_module_version": "1.2.0",
     "model_name": "LayoutModel",
     "state": {
      "_model_module": "@jupyter-widgets/base",
      "_model_module_version": "1.2.0",
      "_model_name": "LayoutModel",
      "_view_count": null,
      "_view_module": "@jupyter-widgets/base",
      "_view_module_version": "1.2.0",
      "_view_name": "LayoutView",
      "align_content": null,
      "align_items": null,
      "align_self": null,
      "border": null,
      "bottom": null,
      "display": null,
      "flex": null,
      "flex_flow": null,
      "grid_area": null,
      "grid_auto_columns": null,
      "grid_auto_flow": null,
      "grid_auto_rows": null,
      "grid_column": null,
      "grid_gap": null,
      "grid_row": null,
      "grid_template_areas": null,
      "grid_template_columns": null,
      "grid_template_rows": null,
      "height": null,
      "justify_content": null,
      "justify_items": null,
      "left": null,
      "margin": null,
      "max_height": null,
      "max_width": null,
      "min_height": null,
      "min_width": null,
      "object_fit": null,
      "object_position": null,
      "order": null,
      "overflow": null,
      "overflow_x": null,
      "overflow_y": null,
      "padding": null,
      "right": null,
      "top": null,
      "visibility": null,
      "width": null
     }
    },
    "986396fdf1bf480da8c6fbb1e9dffe1f": {
     "model_module": "@jupyter-widgets/base",
     "model_module_version": "1.2.0",
     "model_name": "LayoutModel",
     "state": {
      "_model_module": "@jupyter-widgets/base",
      "_model_module_version": "1.2.0",
      "_model_name": "LayoutModel",
      "_view_count": null,
      "_view_module": "@jupyter-widgets/base",
      "_view_module_version": "1.2.0",
      "_view_name": "LayoutView",
      "align_content": null,
      "align_items": null,
      "align_self": null,
      "border": null,
      "bottom": null,
      "display": null,
      "flex": null,
      "flex_flow": null,
      "grid_area": null,
      "grid_auto_columns": null,
      "grid_auto_flow": null,
      "grid_auto_rows": null,
      "grid_column": null,
      "grid_gap": null,
      "grid_row": null,
      "grid_template_areas": null,
      "grid_template_columns": null,
      "grid_template_rows": null,
      "height": null,
      "justify_content": null,
      "justify_items": null,
      "left": null,
      "margin": null,
      "max_height": null,
      "max_width": null,
      "min_height": null,
      "min_width": null,
      "object_fit": null,
      "object_position": null,
      "order": null,
      "overflow": null,
      "overflow_x": null,
      "overflow_y": null,
      "padding": null,
      "right": null,
      "top": null,
      "visibility": null,
      "width": null
     }
    },
    "9a59ea14fec14f3cb99154be17b74fff": {
     "model_module": "@jupyter-widgets/base",
     "model_module_version": "1.2.0",
     "model_name": "LayoutModel",
     "state": {
      "_model_module": "@jupyter-widgets/base",
      "_model_module_version": "1.2.0",
      "_model_name": "LayoutModel",
      "_view_count": null,
      "_view_module": "@jupyter-widgets/base",
      "_view_module_version": "1.2.0",
      "_view_name": "LayoutView",
      "align_content": null,
      "align_items": null,
      "align_self": null,
      "border": null,
      "bottom": null,
      "display": null,
      "flex": null,
      "flex_flow": null,
      "grid_area": null,
      "grid_auto_columns": null,
      "grid_auto_flow": null,
      "grid_auto_rows": null,
      "grid_column": null,
      "grid_gap": null,
      "grid_row": null,
      "grid_template_areas": null,
      "grid_template_columns": null,
      "grid_template_rows": null,
      "height": null,
      "justify_content": null,
      "justify_items": null,
      "left": null,
      "margin": null,
      "max_height": null,
      "max_width": null,
      "min_height": null,
      "min_width": null,
      "object_fit": null,
      "object_position": null,
      "order": null,
      "overflow": null,
      "overflow_x": null,
      "overflow_y": null,
      "padding": null,
      "right": null,
      "top": null,
      "visibility": null,
      "width": null
     }
    },
    "9f90f2a41365478c97e9444964eeb76a": {
     "model_module": "@jupyter-widgets/base",
     "model_module_version": "1.2.0",
     "model_name": "LayoutModel",
     "state": {
      "_model_module": "@jupyter-widgets/base",
      "_model_module_version": "1.2.0",
      "_model_name": "LayoutModel",
      "_view_count": null,
      "_view_module": "@jupyter-widgets/base",
      "_view_module_version": "1.2.0",
      "_view_name": "LayoutView",
      "align_content": null,
      "align_items": null,
      "align_self": null,
      "border": null,
      "bottom": null,
      "display": null,
      "flex": null,
      "flex_flow": null,
      "grid_area": null,
      "grid_auto_columns": null,
      "grid_auto_flow": null,
      "grid_auto_rows": null,
      "grid_column": null,
      "grid_gap": null,
      "grid_row": null,
      "grid_template_areas": null,
      "grid_template_columns": null,
      "grid_template_rows": null,
      "height": null,
      "justify_content": null,
      "justify_items": null,
      "left": null,
      "margin": null,
      "max_height": null,
      "max_width": null,
      "min_height": null,
      "min_width": null,
      "object_fit": null,
      "object_position": null,
      "order": null,
      "overflow": null,
      "overflow_x": null,
      "overflow_y": null,
      "padding": null,
      "right": null,
      "top": null,
      "visibility": null,
      "width": null
     }
    },
    "a47a264f6e344b5d8eb40773909c92fa": {
     "model_module": "@jupyter-widgets/controls",
     "model_module_version": "1.5.0",
     "model_name": "DescriptionStyleModel",
     "state": {
      "_model_module": "@jupyter-widgets/controls",
      "_model_module_version": "1.5.0",
      "_model_name": "DescriptionStyleModel",
      "_view_count": null,
      "_view_module": "@jupyter-widgets/base",
      "_view_module_version": "1.2.0",
      "_view_name": "StyleView",
      "description_width": ""
     }
    },
    "b4c919d074014c688765c0832ee9caef": {
     "model_module": "@jupyter-widgets/controls",
     "model_module_version": "1.5.0",
     "model_name": "HBoxModel",
     "state": {
      "_dom_classes": [],
      "_model_module": "@jupyter-widgets/controls",
      "_model_module_version": "1.5.0",
      "_model_name": "HBoxModel",
      "_view_count": null,
      "_view_module": "@jupyter-widgets/controls",
      "_view_module_version": "1.5.0",
      "_view_name": "HBoxView",
      "box_style": "",
      "children": [
       "IPY_MODEL_d78821f335fa4538a42d40ca07ad51d1",
       "IPY_MODEL_2701a94ed0c142c38877633799de4867",
       "IPY_MODEL_7a99d2f0e0eb4f58b5ead9afeb0d8728"
      ],
      "layout": "IPY_MODEL_755b782b5ab444489d8490f014a69891"
     }
    },
    "b7976f8408de47c487e3c3158ecb5bef": {
     "model_module": "@jupyter-widgets/base",
     "model_module_version": "1.2.0",
     "model_name": "LayoutModel",
     "state": {
      "_model_module": "@jupyter-widgets/base",
      "_model_module_version": "1.2.0",
      "_model_name": "LayoutModel",
      "_view_count": null,
      "_view_module": "@jupyter-widgets/base",
      "_view_module_version": "1.2.0",
      "_view_name": "LayoutView",
      "align_content": null,
      "align_items": null,
      "align_self": null,
      "border": null,
      "bottom": null,
      "display": null,
      "flex": null,
      "flex_flow": null,
      "grid_area": null,
      "grid_auto_columns": null,
      "grid_auto_flow": null,
      "grid_auto_rows": null,
      "grid_column": null,
      "grid_gap": null,
      "grid_row": null,
      "grid_template_areas": null,
      "grid_template_columns": null,
      "grid_template_rows": null,
      "height": null,
      "justify_content": null,
      "justify_items": null,
      "left": null,
      "margin": null,
      "max_height": null,
      "max_width": null,
      "min_height": null,
      "min_width": null,
      "object_fit": null,
      "object_position": null,
      "order": null,
      "overflow": null,
      "overflow_x": null,
      "overflow_y": null,
      "padding": null,
      "right": null,
      "top": null,
      "visibility": null,
      "width": null
     }
    },
    "b81fc011c286414a866cb2e4fa97909b": {
     "model_module": "@jupyter-widgets/base",
     "model_module_version": "1.2.0",
     "model_name": "LayoutModel",
     "state": {
      "_model_module": "@jupyter-widgets/base",
      "_model_module_version": "1.2.0",
      "_model_name": "LayoutModel",
      "_view_count": null,
      "_view_module": "@jupyter-widgets/base",
      "_view_module_version": "1.2.0",
      "_view_name": "LayoutView",
      "align_content": null,
      "align_items": null,
      "align_self": null,
      "border": null,
      "bottom": null,
      "display": null,
      "flex": null,
      "flex_flow": null,
      "grid_area": null,
      "grid_auto_columns": null,
      "grid_auto_flow": null,
      "grid_auto_rows": null,
      "grid_column": null,
      "grid_gap": null,
      "grid_row": null,
      "grid_template_areas": null,
      "grid_template_columns": null,
      "grid_template_rows": null,
      "height": null,
      "justify_content": null,
      "justify_items": null,
      "left": null,
      "margin": null,
      "max_height": null,
      "max_width": null,
      "min_height": null,
      "min_width": null,
      "object_fit": null,
      "object_position": null,
      "order": null,
      "overflow": null,
      "overflow_x": null,
      "overflow_y": null,
      "padding": null,
      "right": null,
      "top": null,
      "visibility": null,
      "width": null
     }
    },
    "ba5e42d8493b46eca20d39f038c1d2eb": {
     "model_module": "@jupyter-widgets/controls",
     "model_module_version": "1.5.0",
     "model_name": "FloatProgressModel",
     "state": {
      "_dom_classes": [],
      "_model_module": "@jupyter-widgets/controls",
      "_model_module_version": "1.5.0",
      "_model_name": "FloatProgressModel",
      "_view_count": null,
      "_view_module": "@jupyter-widgets/controls",
      "_view_module_version": "1.5.0",
      "_view_name": "ProgressView",
      "bar_style": "success",
      "description": "",
      "description_tooltip": null,
      "layout": "IPY_MODEL_05585bc5e86a417db2abba6e2f6fb48e",
      "max": 231508,
      "min": 0,
      "orientation": "horizontal",
      "style": "IPY_MODEL_0962da3b03494e80a4feacb25d0fa177",
      "value": 231508
     }
    },
    "bbc9bb89354747e7b31502341246bae6": {
     "model_module": "@jupyter-widgets/controls",
     "model_module_version": "1.5.0",
     "model_name": "DescriptionStyleModel",
     "state": {
      "_model_module": "@jupyter-widgets/controls",
      "_model_module_version": "1.5.0",
      "_model_name": "DescriptionStyleModel",
      "_view_count": null,
      "_view_module": "@jupyter-widgets/base",
      "_view_module_version": "1.2.0",
      "_view_name": "StyleView",
      "description_width": ""
     }
    },
    "c4726f8e94f34796b794dfc472392521": {
     "model_module": "@jupyter-widgets/base",
     "model_module_version": "1.2.0",
     "model_name": "LayoutModel",
     "state": {
      "_model_module": "@jupyter-widgets/base",
      "_model_module_version": "1.2.0",
      "_model_name": "LayoutModel",
      "_view_count": null,
      "_view_module": "@jupyter-widgets/base",
      "_view_module_version": "1.2.0",
      "_view_name": "LayoutView",
      "align_content": null,
      "align_items": null,
      "align_self": null,
      "border": null,
      "bottom": null,
      "display": null,
      "flex": null,
      "flex_flow": null,
      "grid_area": null,
      "grid_auto_columns": null,
      "grid_auto_flow": null,
      "grid_auto_rows": null,
      "grid_column": null,
      "grid_gap": null,
      "grid_row": null,
      "grid_template_areas": null,
      "grid_template_columns": null,
      "grid_template_rows": null,
      "height": null,
      "justify_content": null,
      "justify_items": null,
      "left": null,
      "margin": null,
      "max_height": null,
      "max_width": null,
      "min_height": null,
      "min_width": null,
      "object_fit": null,
      "object_position": null,
      "order": null,
      "overflow": null,
      "overflow_x": null,
      "overflow_y": null,
      "padding": null,
      "right": null,
      "top": null,
      "visibility": null,
      "width": null
     }
    },
    "cf2a5e0f2c90452ba1143f5bf4f01a7f": {
     "model_module": "@jupyter-widgets/base",
     "model_module_version": "1.2.0",
     "model_name": "LayoutModel",
     "state": {
      "_model_module": "@jupyter-widgets/base",
      "_model_module_version": "1.2.0",
      "_model_name": "LayoutModel",
      "_view_count": null,
      "_view_module": "@jupyter-widgets/base",
      "_view_module_version": "1.2.0",
      "_view_name": "LayoutView",
      "align_content": null,
      "align_items": null,
      "align_self": null,
      "border": null,
      "bottom": null,
      "display": null,
      "flex": null,
      "flex_flow": null,
      "grid_area": null,
      "grid_auto_columns": null,
      "grid_auto_flow": null,
      "grid_auto_rows": null,
      "grid_column": null,
      "grid_gap": null,
      "grid_row": null,
      "grid_template_areas": null,
      "grid_template_columns": null,
      "grid_template_rows": null,
      "height": null,
      "justify_content": null,
      "justify_items": null,
      "left": null,
      "margin": null,
      "max_height": null,
      "max_width": null,
      "min_height": null,
      "min_width": null,
      "object_fit": null,
      "object_position": null,
      "order": null,
      "overflow": null,
      "overflow_x": null,
      "overflow_y": null,
      "padding": null,
      "right": null,
      "top": null,
      "visibility": null,
      "width": null
     }
    },
    "d78821f335fa4538a42d40ca07ad51d1": {
     "model_module": "@jupyter-widgets/controls",
     "model_module_version": "1.5.0",
     "model_name": "HTMLModel",
     "state": {
      "_dom_classes": [],
      "_model_module": "@jupyter-widgets/controls",
      "_model_module_version": "1.5.0",
      "_model_name": "HTMLModel",
      "_view_count": null,
      "_view_module": "@jupyter-widgets/controls",
      "_view_module_version": "1.5.0",
      "_view_name": "HTMLView",
      "description": "",
      "description_tooltip": null,
      "layout": "IPY_MODEL_b81fc011c286414a866cb2e4fa97909b",
      "placeholder": "​",
      "style": "IPY_MODEL_a47a264f6e344b5d8eb40773909c92fa",
      "value": "Downloading: 100%"
     }
    },
    "def001fb73184c87bc3a90b405912d7d": {
     "model_module": "@jupyter-widgets/controls",
     "model_module_version": "1.5.0",
     "model_name": "HTMLModel",
     "state": {
      "_dom_classes": [],
      "_model_module": "@jupyter-widgets/controls",
      "_model_module_version": "1.5.0",
      "_model_name": "HTMLModel",
      "_view_count": null,
      "_view_module": "@jupyter-widgets/controls",
      "_view_module_version": "1.5.0",
      "_view_name": "HTMLView",
      "description": "",
      "description_tooltip": null,
      "layout": "IPY_MODEL_9a59ea14fec14f3cb99154be17b74fff",
      "placeholder": "​",
      "style": "IPY_MODEL_697eaac7a6054bf3a131b19fd99572f1",
      "value": "Downloading: 100%"
     }
    },
    "e0cf6576fb4349e9a7ba00cbdaf8e71b": {
     "model_module": "@jupyter-widgets/controls",
     "model_module_version": "1.5.0",
     "model_name": "HTMLModel",
     "state": {
      "_dom_classes": [],
      "_model_module": "@jupyter-widgets/controls",
      "_model_module_version": "1.5.0",
      "_model_name": "HTMLModel",
      "_view_count": null,
      "_view_module": "@jupyter-widgets/controls",
      "_view_module_version": "1.5.0",
      "_view_name": "HTMLView",
      "description": "",
      "description_tooltip": null,
      "layout": "IPY_MODEL_f86202d8aa0b48a3b983f8df29ee3b84",
      "placeholder": "​",
      "style": "IPY_MODEL_2185965ba01446faa442562b21eaa067",
      "value": "Downloading: 100%"
     }
    },
    "e30ddddd5b3c4f32bf6e7108f4fa394a": {
     "model_module": "@jupyter-widgets/base",
     "model_module_version": "1.2.0",
     "model_name": "LayoutModel",
     "state": {
      "_model_module": "@jupyter-widgets/base",
      "_model_module_version": "1.2.0",
      "_model_name": "LayoutModel",
      "_view_count": null,
      "_view_module": "@jupyter-widgets/base",
      "_view_module_version": "1.2.0",
      "_view_name": "LayoutView",
      "align_content": null,
      "align_items": null,
      "align_self": null,
      "border": null,
      "bottom": null,
      "display": null,
      "flex": null,
      "flex_flow": null,
      "grid_area": null,
      "grid_auto_columns": null,
      "grid_auto_flow": null,
      "grid_auto_rows": null,
      "grid_column": null,
      "grid_gap": null,
      "grid_row": null,
      "grid_template_areas": null,
      "grid_template_columns": null,
      "grid_template_rows": null,
      "height": null,
      "justify_content": null,
      "justify_items": null,
      "left": null,
      "margin": null,
      "max_height": null,
      "max_width": null,
      "min_height": null,
      "min_width": null,
      "object_fit": null,
      "object_position": null,
      "order": null,
      "overflow": null,
      "overflow_x": null,
      "overflow_y": null,
      "padding": null,
      "right": null,
      "top": null,
      "visibility": null,
      "width": null
     }
    },
    "e50252964dff4d51aa9eaa0fc801f38b": {
     "model_module": "@jupyter-widgets/controls",
     "model_module_version": "1.5.0",
     "model_name": "FloatProgressModel",
     "state": {
      "_dom_classes": [],
      "_model_module": "@jupyter-widgets/controls",
      "_model_module_version": "1.5.0",
      "_model_name": "FloatProgressModel",
      "_view_count": null,
      "_view_module": "@jupyter-widgets/controls",
      "_view_module_version": "1.5.0",
      "_view_name": "ProgressView",
      "bar_style": "success",
      "description": "",
      "description_tooltip": null,
      "layout": "IPY_MODEL_f2fafcaa4c354f26aa57af60f9461f21",
      "max": 438033929,
      "min": 0,
      "orientation": "horizontal",
      "style": "IPY_MODEL_f519f23186084a4ba4490ce17f1ace81",
      "value": 438033929
     }
    },
    "e73ed42f1b9f44108cb6866d0a541af9": {
     "model_module": "@jupyter-widgets/controls",
     "model_module_version": "1.5.0",
     "model_name": "DescriptionStyleModel",
     "state": {
      "_model_module": "@jupyter-widgets/controls",
      "_model_module_version": "1.5.0",
      "_model_name": "DescriptionStyleModel",
      "_view_count": null,
      "_view_module": "@jupyter-widgets/base",
      "_view_module_version": "1.2.0",
      "_view_name": "StyleView",
      "description_width": ""
     }
    },
    "e9df17a9ad7547f388093b77e36eff35": {
     "model_module": "@jupyter-widgets/base",
     "model_module_version": "1.2.0",
     "model_name": "LayoutModel",
     "state": {
      "_model_module": "@jupyter-widgets/base",
      "_model_module_version": "1.2.0",
      "_model_name": "LayoutModel",
      "_view_count": null,
      "_view_module": "@jupyter-widgets/base",
      "_view_module_version": "1.2.0",
      "_view_name": "LayoutView",
      "align_content": null,
      "align_items": null,
      "align_self": null,
      "border": null,
      "bottom": null,
      "display": null,
      "flex": null,
      "flex_flow": null,
      "grid_area": null,
      "grid_auto_columns": null,
      "grid_auto_flow": null,
      "grid_auto_rows": null,
      "grid_column": null,
      "grid_gap": null,
      "grid_row": null,
      "grid_template_areas": null,
      "grid_template_columns": null,
      "grid_template_rows": null,
      "height": null,
      "justify_content": null,
      "justify_items": null,
      "left": null,
      "margin": null,
      "max_height": null,
      "max_width": null,
      "min_height": null,
      "min_width": null,
      "object_fit": null,
      "object_position": null,
      "order": null,
      "overflow": null,
      "overflow_x": null,
      "overflow_y": null,
      "padding": null,
      "right": null,
      "top": null,
      "visibility": null,
      "width": null
     }
    },
    "ebe2aaaa7c6a41238b79124c05db55ef": {
     "model_module": "@jupyter-widgets/base",
     "model_module_version": "1.2.0",
     "model_name": "LayoutModel",
     "state": {
      "_model_module": "@jupyter-widgets/base",
      "_model_module_version": "1.2.0",
      "_model_name": "LayoutModel",
      "_view_count": null,
      "_view_module": "@jupyter-widgets/base",
      "_view_module_version": "1.2.0",
      "_view_name": "LayoutView",
      "align_content": null,
      "align_items": null,
      "align_self": null,
      "border": null,
      "bottom": null,
      "display": null,
      "flex": null,
      "flex_flow": null,
      "grid_area": null,
      "grid_auto_columns": null,
      "grid_auto_flow": null,
      "grid_auto_rows": null,
      "grid_column": null,
      "grid_gap": null,
      "grid_row": null,
      "grid_template_areas": null,
      "grid_template_columns": null,
      "grid_template_rows": null,
      "height": null,
      "justify_content": null,
      "justify_items": null,
      "left": null,
      "margin": null,
      "max_height": null,
      "max_width": null,
      "min_height": null,
      "min_width": null,
      "object_fit": null,
      "object_position": null,
      "order": null,
      "overflow": null,
      "overflow_x": null,
      "overflow_y": null,
      "padding": null,
      "right": null,
      "top": null,
      "visibility": null,
      "width": null
     }
    },
    "f2fafcaa4c354f26aa57af60f9461f21": {
     "model_module": "@jupyter-widgets/base",
     "model_module_version": "1.2.0",
     "model_name": "LayoutModel",
     "state": {
      "_model_module": "@jupyter-widgets/base",
      "_model_module_version": "1.2.0",
      "_model_name": "LayoutModel",
      "_view_count": null,
      "_view_module": "@jupyter-widgets/base",
      "_view_module_version": "1.2.0",
      "_view_name": "LayoutView",
      "align_content": null,
      "align_items": null,
      "align_self": null,
      "border": null,
      "bottom": null,
      "display": null,
      "flex": null,
      "flex_flow": null,
      "grid_area": null,
      "grid_auto_columns": null,
      "grid_auto_flow": null,
      "grid_auto_rows": null,
      "grid_column": null,
      "grid_gap": null,
      "grid_row": null,
      "grid_template_areas": null,
      "grid_template_columns": null,
      "grid_template_rows": null,
      "height": null,
      "justify_content": null,
      "justify_items": null,
      "left": null,
      "margin": null,
      "max_height": null,
      "max_width": null,
      "min_height": null,
      "min_width": null,
      "object_fit": null,
      "object_position": null,
      "order": null,
      "overflow": null,
      "overflow_x": null,
      "overflow_y": null,
      "padding": null,
      "right": null,
      "top": null,
      "visibility": null,
      "width": null
     }
    },
    "f519f23186084a4ba4490ce17f1ace81": {
     "model_module": "@jupyter-widgets/controls",
     "model_module_version": "1.5.0",
     "model_name": "ProgressStyleModel",
     "state": {
      "_model_module": "@jupyter-widgets/controls",
      "_model_module_version": "1.5.0",
      "_model_name": "ProgressStyleModel",
      "_view_count": null,
      "_view_module": "@jupyter-widgets/base",
      "_view_module_version": "1.2.0",
      "_view_name": "StyleView",
      "bar_color": null,
      "description_width": ""
     }
    },
    "f7555f99eb4f43eda0e07e80a7f68edc": {
     "model_module": "@jupyter-widgets/controls",
     "model_module_version": "1.5.0",
     "model_name": "HBoxModel",
     "state": {
      "_dom_classes": [],
      "_model_module": "@jupyter-widgets/controls",
      "_model_module_version": "1.5.0",
      "_model_name": "HBoxModel",
      "_view_count": null,
      "_view_module": "@jupyter-widgets/controls",
      "_view_module_version": "1.5.0",
      "_view_name": "HBoxView",
      "box_style": "",
      "children": [
       "IPY_MODEL_147b0878fe4545798863b29cb9ffeb32",
       "IPY_MODEL_e50252964dff4d51aa9eaa0fc801f38b",
       "IPY_MODEL_41aad3b8d639458da0f3eb5a342f534e"
      ],
      "layout": "IPY_MODEL_68f01d56ad994ec38d7c8001df43ff44"
     }
    },
    "f86202d8aa0b48a3b983f8df29ee3b84": {
     "model_module": "@jupyter-widgets/base",
     "model_module_version": "1.2.0",
     "model_name": "LayoutModel",
     "state": {
      "_model_module": "@jupyter-widgets/base",
      "_model_module_version": "1.2.0",
      "_model_name": "LayoutModel",
      "_view_count": null,
      "_view_module": "@jupyter-widgets/base",
      "_view_module_version": "1.2.0",
      "_view_name": "LayoutView",
      "align_content": null,
      "align_items": null,
      "align_self": null,
      "border": null,
      "bottom": null,
      "display": null,
      "flex": null,
      "flex_flow": null,
      "grid_area": null,
      "grid_auto_columns": null,
      "grid_auto_flow": null,
      "grid_auto_rows": null,
      "grid_column": null,
      "grid_gap": null,
      "grid_row": null,
      "grid_template_areas": null,
      "grid_template_columns": null,
      "grid_template_rows": null,
      "height": null,
      "justify_content": null,
      "justify_items": null,
      "left": null,
      "margin": null,
      "max_height": null,
      "max_width": null,
      "min_height": null,
      "min_width": null,
      "object_fit": null,
      "object_position": null,
      "order": null,
      "overflow": null,
      "overflow_x": null,
      "overflow_y": null,
      "padding": null,
      "right": null,
      "top": null,
      "visibility": null,
      "width": null
     }
    }
   }
  }
 },
 "nbformat": 4,
 "nbformat_minor": 5
}
